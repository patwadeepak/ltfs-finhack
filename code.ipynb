{
  "cells": [
    {
      "metadata": {},
      "cell_type": "markdown",
      "source": "# [LTFS Data Science FinHack ( ML Hackathon)](https://datahack.analyticsvidhya.com/contest/ltfs-datascience-finhack-an-online-hackathon/)"
    },
    {
      "metadata": {},
      "cell_type": "markdown",
      "source": "### Notes -\nI have used [modin](https://github.com/modin-project/modin) package which speeds up pandas library.\n\n#### To install modin\n`!pip install modin` then also do a `!pip install setproctitle`<br>\ndrop the initial '!' from above commands if you run in a Terminal. I am using [Azure Notebook](https://notebooks.azure.com)"
    },
    {
      "metadata": {
        "trusted": true
      },
      "cell_type": "code",
      "source": "import numpy as np\nimport pandas as pd",
      "execution_count": 17,
      "outputs": []
    },
    {
      "metadata": {
        "trusted": true
      },
      "cell_type": "code",
      "source": "pd.set_option('display.max_columns', None)",
      "execution_count": 18,
      "outputs": []
    },
    {
      "metadata": {
        "trusted": true
      },
      "cell_type": "code",
      "source": "import matplotlib.pyplot as plt\nimport seaborn as sns\n%matplotlib inline",
      "execution_count": 19,
      "outputs": []
    },
    {
      "metadata": {},
      "cell_type": "markdown",
      "source": "### Reading the data from disk"
    },
    {
      "metadata": {
        "trusted": true
      },
      "cell_type": "code",
      "source": "df_train = pd.read_csv('train.csv')\ndf_test = pd.read_csv('test.csv')\nsample_submission = pd.read_csv('sample_submission.csv')",
      "execution_count": 20,
      "outputs": []
    },
    {
      "metadata": {},
      "cell_type": "markdown",
      "source": "#### Lets check the data quality first"
    },
    {
      "metadata": {
        "trusted": true
      },
      "cell_type": "code",
      "source": "df_train.shape",
      "execution_count": 21,
      "outputs": [
        {
          "output_type": "execute_result",
          "execution_count": 21,
          "data": {
            "text/plain": "(233154, 41)"
          },
          "metadata": {}
        }
      ]
    },
    {
      "metadata": {
        "trusted": true,
        "scrolled": true
      },
      "cell_type": "code",
      "source": "# Percentage of null values in each feature\ndef get_nulls(X):\n    key_string = 'Null '+'/ '+str(X.shape[0])\n    temp = pd.DataFrame({key_string: X.isnull().sum(),\n                         'Null %age': round(X.isnull().sum()/ X.shape[0]*100,2)})\n    temp = temp.loc[temp[key_string] > 0,:]\n    return temp",
      "execution_count": 22,
      "outputs": []
    },
    {
      "metadata": {
        "trusted": true
      },
      "cell_type": "code",
      "source": "get_nulls(df_train)",
      "execution_count": 23,
      "outputs": [
        {
          "output_type": "execute_result",
          "execution_count": 23,
          "data": {
            "text/html": "<div>\n<style scoped>\n    .dataframe tbody tr th:only-of-type {\n        vertical-align: middle;\n    }\n\n    .dataframe tbody tr th {\n        vertical-align: top;\n    }\n\n    .dataframe thead th {\n        text-align: right;\n    }\n</style>\n<table border=\"1\" class=\"dataframe\">\n  <thead>\n    <tr style=\"text-align: right;\">\n      <th></th>\n      <th>Null %age</th>\n      <th>Null / 233154</th>\n    </tr>\n  </thead>\n  <tbody>\n    <tr>\n      <th>Employment.Type</th>\n      <td>3.29</td>\n      <td>7661</td>\n    </tr>\n  </tbody>\n</table>\n</div>",
            "text/plain": "                 Null %age  Null / 233154\nEmployment.Type       3.29           7661"
          },
          "metadata": {}
        }
      ]
    },
    {
      "metadata": {
        "trusted": true
      },
      "cell_type": "code",
      "source": "get_nulls(df_test)",
      "execution_count": 24,
      "outputs": [
        {
          "output_type": "execute_result",
          "execution_count": 24,
          "data": {
            "text/html": "<div>\n<style scoped>\n    .dataframe tbody tr th:only-of-type {\n        vertical-align: middle;\n    }\n\n    .dataframe tbody tr th {\n        vertical-align: top;\n    }\n\n    .dataframe thead th {\n        text-align: right;\n    }\n</style>\n<table border=\"1\" class=\"dataframe\">\n  <thead>\n    <tr style=\"text-align: right;\">\n      <th></th>\n      <th>Null %age</th>\n      <th>Null / 112392</th>\n    </tr>\n  </thead>\n  <tbody>\n    <tr>\n      <th>Employment.Type</th>\n      <td>3.06</td>\n      <td>3443</td>\n    </tr>\n  </tbody>\n</table>\n</div>",
            "text/plain": "                 Null %age  Null / 112392\nEmployment.Type       3.06           3443"
          },
          "metadata": {}
        }
      ]
    },
    {
      "metadata": {},
      "cell_type": "markdown",
      "source": "Among 41 columns only 1 columns **Employment.type** is having null values. Also, only about 3% of rows have nulls. But if we see it more carefully, since our dataset is pretty large the **3% is actually 7661 rows**.<br> Entire model can be built using such data. So why drop these rows. We can use **segmentation** here easily."
    },
    {
      "metadata": {},
      "cell_type": "markdown",
      "source": "#### Lets do some EDA"
    },
    {
      "metadata": {
        "trusted": true,
        "scrolled": true
      },
      "cell_type": "code",
      "source": "df_train.head()",
      "execution_count": 25,
      "outputs": [
        {
          "output_type": "execute_result",
          "execution_count": 25,
          "data": {
            "text/html": "<div>\n<style scoped>\n    .dataframe tbody tr th:only-of-type {\n        vertical-align: middle;\n    }\n\n    .dataframe tbody tr th {\n        vertical-align: top;\n    }\n\n    .dataframe thead th {\n        text-align: right;\n    }\n</style>\n<table border=\"1\" class=\"dataframe\">\n  <thead>\n    <tr style=\"text-align: right;\">\n      <th></th>\n      <th>UniqueID</th>\n      <th>disbursed_amount</th>\n      <th>asset_cost</th>\n      <th>ltv</th>\n      <th>branch_id</th>\n      <th>supplier_id</th>\n      <th>manufacturer_id</th>\n      <th>Current_pincode_ID</th>\n      <th>Date.of.Birth</th>\n      <th>Employment.Type</th>\n      <th>DisbursalDate</th>\n      <th>State_ID</th>\n      <th>Employee_code_ID</th>\n      <th>MobileNo_Avl_Flag</th>\n      <th>Aadhar_flag</th>\n      <th>PAN_flag</th>\n      <th>VoterID_flag</th>\n      <th>Driving_flag</th>\n      <th>Passport_flag</th>\n      <th>PERFORM_CNS.SCORE</th>\n      <th>PERFORM_CNS.SCORE.DESCRIPTION</th>\n      <th>PRI.NO.OF.ACCTS</th>\n      <th>PRI.ACTIVE.ACCTS</th>\n      <th>PRI.OVERDUE.ACCTS</th>\n      <th>PRI.CURRENT.BALANCE</th>\n      <th>PRI.SANCTIONED.AMOUNT</th>\n      <th>PRI.DISBURSED.AMOUNT</th>\n      <th>SEC.NO.OF.ACCTS</th>\n      <th>SEC.ACTIVE.ACCTS</th>\n      <th>SEC.OVERDUE.ACCTS</th>\n      <th>SEC.CURRENT.BALANCE</th>\n      <th>SEC.SANCTIONED.AMOUNT</th>\n      <th>SEC.DISBURSED.AMOUNT</th>\n      <th>PRIMARY.INSTAL.AMT</th>\n      <th>SEC.INSTAL.AMT</th>\n      <th>NEW.ACCTS.IN.LAST.SIX.MONTHS</th>\n      <th>DELINQUENT.ACCTS.IN.LAST.SIX.MONTHS</th>\n      <th>AVERAGE.ACCT.AGE</th>\n      <th>CREDIT.HISTORY.LENGTH</th>\n      <th>NO.OF_INQUIRIES</th>\n      <th>loan_default</th>\n    </tr>\n  </thead>\n  <tbody>\n    <tr>\n      <th>0</th>\n      <td>420825</td>\n      <td>50578</td>\n      <td>58400</td>\n      <td>89.55</td>\n      <td>67</td>\n      <td>22807</td>\n      <td>45</td>\n      <td>1441</td>\n      <td>01-01-84</td>\n      <td>Salaried</td>\n      <td>03-08-18</td>\n      <td>6</td>\n      <td>1998</td>\n      <td>1</td>\n      <td>1</td>\n      <td>0</td>\n      <td>0</td>\n      <td>0</td>\n      <td>0</td>\n      <td>0</td>\n      <td>No Bureau History Available</td>\n      <td>0</td>\n      <td>0</td>\n      <td>0</td>\n      <td>0</td>\n      <td>0</td>\n      <td>0</td>\n      <td>0</td>\n      <td>0</td>\n      <td>0</td>\n      <td>0</td>\n      <td>0</td>\n      <td>0</td>\n      <td>0</td>\n      <td>0</td>\n      <td>0</td>\n      <td>0</td>\n      <td>0yrs 0mon</td>\n      <td>0yrs 0mon</td>\n      <td>0</td>\n      <td>0</td>\n    </tr>\n    <tr>\n      <th>1</th>\n      <td>537409</td>\n      <td>47145</td>\n      <td>65550</td>\n      <td>73.23</td>\n      <td>67</td>\n      <td>22807</td>\n      <td>45</td>\n      <td>1502</td>\n      <td>31-07-85</td>\n      <td>Self employed</td>\n      <td>26-09-18</td>\n      <td>6</td>\n      <td>1998</td>\n      <td>1</td>\n      <td>1</td>\n      <td>0</td>\n      <td>0</td>\n      <td>0</td>\n      <td>0</td>\n      <td>598</td>\n      <td>I-Medium Risk</td>\n      <td>1</td>\n      <td>1</td>\n      <td>1</td>\n      <td>27600</td>\n      <td>50200</td>\n      <td>50200</td>\n      <td>0</td>\n      <td>0</td>\n      <td>0</td>\n      <td>0</td>\n      <td>0</td>\n      <td>0</td>\n      <td>1991</td>\n      <td>0</td>\n      <td>0</td>\n      <td>1</td>\n      <td>1yrs 11mon</td>\n      <td>1yrs 11mon</td>\n      <td>0</td>\n      <td>1</td>\n    </tr>\n    <tr>\n      <th>2</th>\n      <td>417566</td>\n      <td>53278</td>\n      <td>61360</td>\n      <td>89.63</td>\n      <td>67</td>\n      <td>22807</td>\n      <td>45</td>\n      <td>1497</td>\n      <td>24-08-85</td>\n      <td>Self employed</td>\n      <td>01-08-18</td>\n      <td>6</td>\n      <td>1998</td>\n      <td>1</td>\n      <td>1</td>\n      <td>0</td>\n      <td>0</td>\n      <td>0</td>\n      <td>0</td>\n      <td>0</td>\n      <td>No Bureau History Available</td>\n      <td>0</td>\n      <td>0</td>\n      <td>0</td>\n      <td>0</td>\n      <td>0</td>\n      <td>0</td>\n      <td>0</td>\n      <td>0</td>\n      <td>0</td>\n      <td>0</td>\n      <td>0</td>\n      <td>0</td>\n      <td>0</td>\n      <td>0</td>\n      <td>0</td>\n      <td>0</td>\n      <td>0yrs 0mon</td>\n      <td>0yrs 0mon</td>\n      <td>0</td>\n      <td>0</td>\n    </tr>\n    <tr>\n      <th>3</th>\n      <td>624493</td>\n      <td>57513</td>\n      <td>66113</td>\n      <td>88.48</td>\n      <td>67</td>\n      <td>22807</td>\n      <td>45</td>\n      <td>1501</td>\n      <td>30-12-93</td>\n      <td>Self employed</td>\n      <td>26-10-18</td>\n      <td>6</td>\n      <td>1998</td>\n      <td>1</td>\n      <td>1</td>\n      <td>0</td>\n      <td>0</td>\n      <td>0</td>\n      <td>0</td>\n      <td>305</td>\n      <td>L-Very High Risk</td>\n      <td>3</td>\n      <td>0</td>\n      <td>0</td>\n      <td>0</td>\n      <td>0</td>\n      <td>0</td>\n      <td>0</td>\n      <td>0</td>\n      <td>0</td>\n      <td>0</td>\n      <td>0</td>\n      <td>0</td>\n      <td>31</td>\n      <td>0</td>\n      <td>0</td>\n      <td>0</td>\n      <td>0yrs 8mon</td>\n      <td>1yrs 3mon</td>\n      <td>1</td>\n      <td>1</td>\n    </tr>\n    <tr>\n      <th>4</th>\n      <td>539055</td>\n      <td>52378</td>\n      <td>60300</td>\n      <td>88.39</td>\n      <td>67</td>\n      <td>22807</td>\n      <td>45</td>\n      <td>1495</td>\n      <td>09-12-77</td>\n      <td>Self employed</td>\n      <td>26-09-18</td>\n      <td>6</td>\n      <td>1998</td>\n      <td>1</td>\n      <td>1</td>\n      <td>0</td>\n      <td>0</td>\n      <td>0</td>\n      <td>0</td>\n      <td>0</td>\n      <td>No Bureau History Available</td>\n      <td>0</td>\n      <td>0</td>\n      <td>0</td>\n      <td>0</td>\n      <td>0</td>\n      <td>0</td>\n      <td>0</td>\n      <td>0</td>\n      <td>0</td>\n      <td>0</td>\n      <td>0</td>\n      <td>0</td>\n      <td>0</td>\n      <td>0</td>\n      <td>0</td>\n      <td>0</td>\n      <td>0yrs 0mon</td>\n      <td>0yrs 0mon</td>\n      <td>1</td>\n      <td>1</td>\n    </tr>\n  </tbody>\n</table>\n</div>",
            "text/plain": "   UniqueID  disbursed_amount  asset_cost    ltv  branch_id  supplier_id  \\\n0    420825             50578       58400  89.55         67        22807   \n1    537409             47145       65550  73.23         67        22807   \n2    417566             53278       61360  89.63         67        22807   \n3    624493             57513       66113  88.48         67        22807   \n4    539055             52378       60300  88.39         67        22807   \n\n   manufacturer_id  Current_pincode_ID Date.of.Birth Employment.Type  \\\n0               45                1441      01-01-84        Salaried   \n1               45                1502      31-07-85   Self employed   \n2               45                1497      24-08-85   Self employed   \n3               45                1501      30-12-93   Self employed   \n4               45                1495      09-12-77   Self employed   \n\n  DisbursalDate  State_ID  Employee_code_ID  MobileNo_Avl_Flag  Aadhar_flag  \\\n0      03-08-18         6              1998                  1            1   \n1      26-09-18         6              1998                  1            1   \n2      01-08-18         6              1998                  1            1   \n3      26-10-18         6              1998                  1            1   \n4      26-09-18         6              1998                  1            1   \n\n   PAN_flag  VoterID_flag  Driving_flag  Passport_flag  PERFORM_CNS.SCORE  \\\n0         0             0             0              0                  0   \n1         0             0             0              0                598   \n2         0             0             0              0                  0   \n3         0             0             0              0                305   \n4         0             0             0              0                  0   \n\n  PERFORM_CNS.SCORE.DESCRIPTION  PRI.NO.OF.ACCTS  PRI.ACTIVE.ACCTS  \\\n0   No Bureau History Available                0                 0   \n1                 I-Medium Risk                1                 1   \n2   No Bureau History Available                0                 0   \n3              L-Very High Risk                3                 0   \n4   No Bureau History Available                0                 0   \n\n   PRI.OVERDUE.ACCTS  PRI.CURRENT.BALANCE  PRI.SANCTIONED.AMOUNT  \\\n0                  0                    0                      0   \n1                  1                27600                  50200   \n2                  0                    0                      0   \n3                  0                    0                      0   \n4                  0                    0                      0   \n\n   PRI.DISBURSED.AMOUNT  SEC.NO.OF.ACCTS  SEC.ACTIVE.ACCTS  SEC.OVERDUE.ACCTS  \\\n0                     0                0                 0                  0   \n1                 50200                0                 0                  0   \n2                     0                0                 0                  0   \n3                     0                0                 0                  0   \n4                     0                0                 0                  0   \n\n   SEC.CURRENT.BALANCE  SEC.SANCTIONED.AMOUNT  SEC.DISBURSED.AMOUNT  \\\n0                    0                      0                     0   \n1                    0                      0                     0   \n2                    0                      0                     0   \n3                    0                      0                     0   \n4                    0                      0                     0   \n\n   PRIMARY.INSTAL.AMT  SEC.INSTAL.AMT  NEW.ACCTS.IN.LAST.SIX.MONTHS  \\\n0                   0               0                             0   \n1                1991               0                             0   \n2                   0               0                             0   \n3                  31               0                             0   \n4                   0               0                             0   \n\n   DELINQUENT.ACCTS.IN.LAST.SIX.MONTHS AVERAGE.ACCT.AGE CREDIT.HISTORY.LENGTH  \\\n0                                    0        0yrs 0mon             0yrs 0mon   \n1                                    1       1yrs 11mon            1yrs 11mon   \n2                                    0        0yrs 0mon             0yrs 0mon   \n3                                    0        0yrs 8mon             1yrs 3mon   \n4                                    0        0yrs 0mon             0yrs 0mon   \n\n   NO.OF_INQUIRIES  loan_default  \n0                0             0  \n1                0             1  \n2                0             0  \n3                1             1  \n4                1             1  "
          },
          "metadata": {}
        }
      ]
    },
    {
      "metadata": {
        "trusted": true
      },
      "cell_type": "code",
      "source": "df_train.shape",
      "execution_count": 26,
      "outputs": [
        {
          "output_type": "execute_result",
          "execution_count": 26,
          "data": {
            "text/plain": "(233154, 41)"
          },
          "metadata": {}
        }
      ]
    },
    {
      "metadata": {
        "trusted": true
      },
      "cell_type": "code",
      "source": "df_test.head()",
      "execution_count": 27,
      "outputs": [
        {
          "output_type": "execute_result",
          "execution_count": 27,
          "data": {
            "text/html": "<div>\n<style scoped>\n    .dataframe tbody tr th:only-of-type {\n        vertical-align: middle;\n    }\n\n    .dataframe tbody tr th {\n        vertical-align: top;\n    }\n\n    .dataframe thead th {\n        text-align: right;\n    }\n</style>\n<table border=\"1\" class=\"dataframe\">\n  <thead>\n    <tr style=\"text-align: right;\">\n      <th></th>\n      <th>UniqueID</th>\n      <th>disbursed_amount</th>\n      <th>asset_cost</th>\n      <th>ltv</th>\n      <th>branch_id</th>\n      <th>supplier_id</th>\n      <th>manufacturer_id</th>\n      <th>Current_pincode_ID</th>\n      <th>Date.of.Birth</th>\n      <th>Employment.Type</th>\n      <th>DisbursalDate</th>\n      <th>State_ID</th>\n      <th>Employee_code_ID</th>\n      <th>MobileNo_Avl_Flag</th>\n      <th>Aadhar_flag</th>\n      <th>PAN_flag</th>\n      <th>VoterID_flag</th>\n      <th>Driving_flag</th>\n      <th>Passport_flag</th>\n      <th>PERFORM_CNS.SCORE</th>\n      <th>PERFORM_CNS.SCORE.DESCRIPTION</th>\n      <th>PRI.NO.OF.ACCTS</th>\n      <th>PRI.ACTIVE.ACCTS</th>\n      <th>PRI.OVERDUE.ACCTS</th>\n      <th>PRI.CURRENT.BALANCE</th>\n      <th>PRI.SANCTIONED.AMOUNT</th>\n      <th>PRI.DISBURSED.AMOUNT</th>\n      <th>SEC.NO.OF.ACCTS</th>\n      <th>SEC.ACTIVE.ACCTS</th>\n      <th>SEC.OVERDUE.ACCTS</th>\n      <th>SEC.CURRENT.BALANCE</th>\n      <th>SEC.SANCTIONED.AMOUNT</th>\n      <th>SEC.DISBURSED.AMOUNT</th>\n      <th>PRIMARY.INSTAL.AMT</th>\n      <th>SEC.INSTAL.AMT</th>\n      <th>NEW.ACCTS.IN.LAST.SIX.MONTHS</th>\n      <th>DELINQUENT.ACCTS.IN.LAST.SIX.MONTHS</th>\n      <th>AVERAGE.ACCT.AGE</th>\n      <th>CREDIT.HISTORY.LENGTH</th>\n      <th>NO.OF_INQUIRIES</th>\n    </tr>\n  </thead>\n  <tbody>\n    <tr>\n      <th>0</th>\n      <td>655269</td>\n      <td>53478</td>\n      <td>63558</td>\n      <td>86.54</td>\n      <td>67</td>\n      <td>22807</td>\n      <td>45</td>\n      <td>1497</td>\n      <td>01-01-74</td>\n      <td>Salaried</td>\n      <td>03-11-18</td>\n      <td>6</td>\n      <td>1998</td>\n      <td>1</td>\n      <td>1</td>\n      <td>0</td>\n      <td>0</td>\n      <td>0</td>\n      <td>0</td>\n      <td>0</td>\n      <td>No Bureau History Available</td>\n      <td>0</td>\n      <td>0</td>\n      <td>0</td>\n      <td>0</td>\n      <td>0</td>\n      <td>0</td>\n      <td>0</td>\n      <td>0</td>\n      <td>0</td>\n      <td>0</td>\n      <td>0</td>\n      <td>0</td>\n      <td>0</td>\n      <td>0</td>\n      <td>0</td>\n      <td>0</td>\n      <td>0yrs 0mon</td>\n      <td>0yrs 0mon</td>\n      <td>0</td>\n    </tr>\n    <tr>\n      <th>1</th>\n      <td>723482</td>\n      <td>55513</td>\n      <td>63163</td>\n      <td>89.45</td>\n      <td>67</td>\n      <td>22807</td>\n      <td>45</td>\n      <td>1497</td>\n      <td>20-05-85</td>\n      <td>Self employed</td>\n      <td>20-11-18</td>\n      <td>6</td>\n      <td>1998</td>\n      <td>1</td>\n      <td>1</td>\n      <td>0</td>\n      <td>0</td>\n      <td>0</td>\n      <td>0</td>\n      <td>749</td>\n      <td>C-Very Low Risk</td>\n      <td>2</td>\n      <td>1</td>\n      <td>0</td>\n      <td>43898</td>\n      <td>48780</td>\n      <td>48780</td>\n      <td>0</td>\n      <td>0</td>\n      <td>0</td>\n      <td>0</td>\n      <td>0</td>\n      <td>0</td>\n      <td>5605</td>\n      <td>0</td>\n      <td>1</td>\n      <td>0</td>\n      <td>0yrs 8mon</td>\n      <td>1yrs 0mon</td>\n      <td>1</td>\n    </tr>\n    <tr>\n      <th>2</th>\n      <td>758529</td>\n      <td>65282</td>\n      <td>84320</td>\n      <td>79.93</td>\n      <td>78</td>\n      <td>23135</td>\n      <td>86</td>\n      <td>2071</td>\n      <td>14-10-95</td>\n      <td>Salaried</td>\n      <td>29-11-18</td>\n      <td>4</td>\n      <td>1646</td>\n      <td>1</td>\n      <td>1</td>\n      <td>1</td>\n      <td>0</td>\n      <td>0</td>\n      <td>0</td>\n      <td>0</td>\n      <td>No Bureau History Available</td>\n      <td>0</td>\n      <td>0</td>\n      <td>0</td>\n      <td>0</td>\n      <td>0</td>\n      <td>0</td>\n      <td>0</td>\n      <td>0</td>\n      <td>0</td>\n      <td>0</td>\n      <td>0</td>\n      <td>0</td>\n      <td>0</td>\n      <td>0</td>\n      <td>0</td>\n      <td>0</td>\n      <td>0yrs 0mon</td>\n      <td>0yrs 0mon</td>\n      <td>0</td>\n    </tr>\n    <tr>\n      <th>3</th>\n      <td>763449</td>\n      <td>46905</td>\n      <td>63896</td>\n      <td>76.58</td>\n      <td>78</td>\n      <td>17014</td>\n      <td>45</td>\n      <td>2070</td>\n      <td>01-06-73</td>\n      <td>Self employed</td>\n      <td>29-11-18</td>\n      <td>4</td>\n      <td>1646</td>\n      <td>1</td>\n      <td>1</td>\n      <td>0</td>\n      <td>0</td>\n      <td>0</td>\n      <td>0</td>\n      <td>14</td>\n      <td>Not Scored: Only a Guarantor</td>\n      <td>1</td>\n      <td>1</td>\n      <td>1</td>\n      <td>132480</td>\n      <td>255000</td>\n      <td>255000</td>\n      <td>0</td>\n      <td>0</td>\n      <td>0</td>\n      <td>0</td>\n      <td>0</td>\n      <td>0</td>\n      <td>0</td>\n      <td>0</td>\n      <td>0</td>\n      <td>0</td>\n      <td>2yrs 5mon</td>\n      <td>2yrs 5mon</td>\n      <td>0</td>\n    </tr>\n    <tr>\n      <th>4</th>\n      <td>708663</td>\n      <td>51428</td>\n      <td>63896</td>\n      <td>86.08</td>\n      <td>78</td>\n      <td>17014</td>\n      <td>45</td>\n      <td>2069</td>\n      <td>01-06-72</td>\n      <td>Salaried</td>\n      <td>17-11-18</td>\n      <td>4</td>\n      <td>1646</td>\n      <td>1</td>\n      <td>1</td>\n      <td>0</td>\n      <td>0</td>\n      <td>0</td>\n      <td>0</td>\n      <td>0</td>\n      <td>No Bureau History Available</td>\n      <td>0</td>\n      <td>0</td>\n      <td>0</td>\n      <td>0</td>\n      <td>0</td>\n      <td>0</td>\n      <td>0</td>\n      <td>0</td>\n      <td>0</td>\n      <td>0</td>\n      <td>0</td>\n      <td>0</td>\n      <td>0</td>\n      <td>0</td>\n      <td>0</td>\n      <td>0</td>\n      <td>0yrs 0mon</td>\n      <td>0yrs 0mon</td>\n      <td>0</td>\n    </tr>\n  </tbody>\n</table>\n</div>",
            "text/plain": "   UniqueID  disbursed_amount  asset_cost    ltv  branch_id  supplier_id  \\\n0    655269             53478       63558  86.54         67        22807   \n1    723482             55513       63163  89.45         67        22807   \n2    758529             65282       84320  79.93         78        23135   \n3    763449             46905       63896  76.58         78        17014   \n4    708663             51428       63896  86.08         78        17014   \n\n   manufacturer_id  Current_pincode_ID Date.of.Birth Employment.Type  \\\n0               45                1497      01-01-74        Salaried   \n1               45                1497      20-05-85   Self employed   \n2               86                2071      14-10-95        Salaried   \n3               45                2070      01-06-73   Self employed   \n4               45                2069      01-06-72        Salaried   \n\n  DisbursalDate  State_ID  Employee_code_ID  MobileNo_Avl_Flag  Aadhar_flag  \\\n0      03-11-18         6              1998                  1            1   \n1      20-11-18         6              1998                  1            1   \n2      29-11-18         4              1646                  1            1   \n3      29-11-18         4              1646                  1            1   \n4      17-11-18         4              1646                  1            1   \n\n   PAN_flag  VoterID_flag  Driving_flag  Passport_flag  PERFORM_CNS.SCORE  \\\n0         0             0             0              0                  0   \n1         0             0             0              0                749   \n2         1             0             0              0                  0   \n3         0             0             0              0                 14   \n4         0             0             0              0                  0   \n\n  PERFORM_CNS.SCORE.DESCRIPTION  PRI.NO.OF.ACCTS  PRI.ACTIVE.ACCTS  \\\n0   No Bureau History Available                0                 0   \n1               C-Very Low Risk                2                 1   \n2   No Bureau History Available                0                 0   \n3  Not Scored: Only a Guarantor                1                 1   \n4   No Bureau History Available                0                 0   \n\n   PRI.OVERDUE.ACCTS  PRI.CURRENT.BALANCE  PRI.SANCTIONED.AMOUNT  \\\n0                  0                    0                      0   \n1                  0                43898                  48780   \n2                  0                    0                      0   \n3                  1               132480                 255000   \n4                  0                    0                      0   \n\n   PRI.DISBURSED.AMOUNT  SEC.NO.OF.ACCTS  SEC.ACTIVE.ACCTS  SEC.OVERDUE.ACCTS  \\\n0                     0                0                 0                  0   \n1                 48780                0                 0                  0   \n2                     0                0                 0                  0   \n3                255000                0                 0                  0   \n4                     0                0                 0                  0   \n\n   SEC.CURRENT.BALANCE  SEC.SANCTIONED.AMOUNT  SEC.DISBURSED.AMOUNT  \\\n0                    0                      0                     0   \n1                    0                      0                     0   \n2                    0                      0                     0   \n3                    0                      0                     0   \n4                    0                      0                     0   \n\n   PRIMARY.INSTAL.AMT  SEC.INSTAL.AMT  NEW.ACCTS.IN.LAST.SIX.MONTHS  \\\n0                   0               0                             0   \n1                5605               0                             1   \n2                   0               0                             0   \n3                   0               0                             0   \n4                   0               0                             0   \n\n   DELINQUENT.ACCTS.IN.LAST.SIX.MONTHS AVERAGE.ACCT.AGE CREDIT.HISTORY.LENGTH  \\\n0                                    0        0yrs 0mon             0yrs 0mon   \n1                                    0        0yrs 8mon             1yrs 0mon   \n2                                    0        0yrs 0mon             0yrs 0mon   \n3                                    0        2yrs 5mon             2yrs 5mon   \n4                                    0        0yrs 0mon             0yrs 0mon   \n\n   NO.OF_INQUIRIES  \n0                0  \n1                1  \n2                0  \n3                0  \n4                0  "
          },
          "metadata": {}
        }
      ]
    },
    {
      "metadata": {
        "trusted": true
      },
      "cell_type": "code",
      "source": "df_test.shape",
      "execution_count": 28,
      "outputs": [
        {
          "output_type": "execute_result",
          "execution_count": 28,
          "data": {
            "text/plain": "(112392, 40)"
          },
          "metadata": {}
        }
      ]
    },
    {
      "metadata": {
        "trusted": true
      },
      "cell_type": "code",
      "source": "",
      "execution_count": null,
      "outputs": []
    },
    {
      "metadata": {
        "trusted": true
      },
      "cell_type": "code",
      "source": "",
      "execution_count": null,
      "outputs": []
    },
    {
      "metadata": {
        "trusted": true
      },
      "cell_type": "code",
      "source": "",
      "execution_count": null,
      "outputs": []
    },
    {
      "metadata": {
        "trusted": true
      },
      "cell_type": "code",
      "source": "",
      "execution_count": null,
      "outputs": []
    },
    {
      "metadata": {
        "trusted": true
      },
      "cell_type": "code",
      "source": "",
      "execution_count": null,
      "outputs": []
    },
    {
      "metadata": {
        "trusted": true
      },
      "cell_type": "code",
      "source": "",
      "execution_count": null,
      "outputs": []
    },
    {
      "metadata": {
        "trusted": true
      },
      "cell_type": "code",
      "source": "",
      "execution_count": null,
      "outputs": []
    },
    {
      "metadata": {
        "trusted": true
      },
      "cell_type": "code",
      "source": "",
      "execution_count": null,
      "outputs": []
    },
    {
      "metadata": {
        "trusted": true
      },
      "cell_type": "code",
      "source": "",
      "execution_count": null,
      "outputs": []
    },
    {
      "metadata": {},
      "cell_type": "markdown",
      "source": "#### Model Building"
    },
    {
      "metadata": {
        "trusted": true
      },
      "cell_type": "code",
      "source": "y_train = df_train.pop('loan_default')\nX_train = df_train\nX_test  = df_test",
      "execution_count": 13,
      "outputs": []
    },
    {
      "metadata": {
        "trusted": true
      },
      "cell_type": "code",
      "source": "from sklearn.model_selection import train_test_split",
      "execution_count": 15,
      "outputs": []
    },
    {
      "metadata": {
        "trusted": true
      },
      "cell_type": "code",
      "source": "X_train, X_val, y_train, y_val = train_test_split(X_train, y_train, test_size=0.33, random_state=42, stratify=y_train)",
      "execution_count": 16,
      "outputs": []
    },
    {
      "metadata": {
        "trusted": true
      },
      "cell_type": "code",
      "source": "",
      "execution_count": null,
      "outputs": []
    }
  ],
  "metadata": {
    "kernelspec": {
      "name": "python36",
      "display_name": "Python 3.6",
      "language": "python"
    },
    "language_info": {
      "mimetype": "text/x-python",
      "nbconvert_exporter": "python",
      "name": "python",
      "pygments_lexer": "ipython3",
      "version": "3.6.6",
      "file_extension": ".py",
      "codemirror_mode": {
        "version": 3,
        "name": "ipython"
      }
    }
  },
  "nbformat": 4,
  "nbformat_minor": 2
}