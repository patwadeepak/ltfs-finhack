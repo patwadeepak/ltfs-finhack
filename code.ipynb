{
 "cells": [
  {
   "cell_type": "markdown",
   "metadata": {},
   "source": [
    "# [LTFS Data Science FinHack ( ML Hackathon)](https://datahack.analyticsvidhya.com/contest/ltfs-datascience-finhack-an-online-hackathon/)"
   ]
  },
  {
   "cell_type": "markdown",
   "metadata": {
    "heading_collapsed": true
   },
   "source": [
    "### Notes -\n",
    "I have used [modin](https://github.com/modin-project/modin) package which speeds up pandas library.\n",
    "\n",
    "#### To install modin\n",
    "`!pip install modin` then also do a `!pip install setproctitle`<br>\n",
    "drop the initial '!' from above commands if you run in a Terminal. I am using [Azure Notebook](https://notebooks.azure.com)"
   ]
  },
  {
   "cell_type": "code",
   "execution_count": 1,
   "metadata": {
    "ExecuteTime": {
     "end_time": "2019-04-18T17:23:53.842409Z",
     "start_time": "2019-04-18T17:23:46.522137Z"
    },
    "hidden": true
   },
   "outputs": [],
   "source": [
    "import numpy as np\n",
    "import pandas as pd"
   ]
  },
  {
   "cell_type": "code",
   "execution_count": 2,
   "metadata": {
    "ExecuteTime": {
     "end_time": "2019-04-18T17:23:53.846303Z",
     "start_time": "2019-04-18T17:23:53.843323Z"
    },
    "hidden": true
   },
   "outputs": [],
   "source": [
    "pd.set_option('display.max_columns', None)\n",
    "pd.set_option('display.max_rows', 150)"
   ]
  },
  {
   "cell_type": "code",
   "execution_count": 3,
   "metadata": {
    "ExecuteTime": {
     "end_time": "2019-04-18T17:24:05.371851Z",
     "start_time": "2019-04-18T17:23:53.847300Z"
    },
    "hidden": true
   },
   "outputs": [],
   "source": [
    "import matplotlib.pyplot as plt\n",
    "import seaborn as sns\n",
    "%matplotlib inline"
   ]
  },
  {
   "cell_type": "markdown",
   "metadata": {
    "heading_collapsed": true
   },
   "source": [
    "### Reading the data from disk"
   ]
  },
  {
   "cell_type": "code",
   "execution_count": 4,
   "metadata": {
    "ExecuteTime": {
     "end_time": "2019-04-18T17:24:08.774161Z",
     "start_time": "2019-04-18T17:24:05.373782Z"
    },
    "hidden": true
   },
   "outputs": [],
   "source": [
    "df_train = pd.read_csv('train.csv')\n",
    "df_test = pd.read_csv('test.csv')\n",
    "sample_submission = pd.read_csv('sample_submission.csv')"
   ]
  },
  {
   "cell_type": "markdown",
   "metadata": {
    "heading_collapsed": true
   },
   "source": [
    "### Lets check the data quality first"
   ]
  },
  {
   "cell_type": "code",
   "execution_count": 5,
   "metadata": {
    "ExecuteTime": {
     "end_time": "2019-04-18T17:24:08.780053Z",
     "start_time": "2019-04-18T17:24:08.775066Z"
    },
    "hidden": true
   },
   "outputs": [
    {
     "data": {
      "text/plain": [
       "(233154, 41)"
      ]
     },
     "execution_count": 5,
     "metadata": {},
     "output_type": "execute_result"
    }
   ],
   "source": [
    "df_train.shape"
   ]
  },
  {
   "cell_type": "code",
   "execution_count": 6,
   "metadata": {
    "ExecuteTime": {
     "end_time": "2019-04-18T17:24:08.862871Z",
     "start_time": "2019-04-18T17:24:08.781077Z"
    },
    "hidden": true,
    "scrolled": true
   },
   "outputs": [],
   "source": [
    "# Percentage of null values in each feature\n",
    "def get_nulls(X):\n",
    "    key_string = 'Null '+'/ '+str(X.shape[0])\n",
    "    temp = pd.DataFrame({key_string: X.isnull().sum(),\n",
    "                         'Null %age': round(X.isnull().sum()/ X.shape[0]*100,2)})\n",
    "    temp = temp.loc[temp[key_string] > 0,:]\n",
    "    return temp"
   ]
  },
  {
   "cell_type": "code",
   "execution_count": 7,
   "metadata": {
    "ExecuteTime": {
     "end_time": "2019-04-18T17:24:09.688142Z",
     "start_time": "2019-04-18T17:24:08.863861Z"
    },
    "hidden": true
   },
   "outputs": [
    {
     "data": {
      "text/html": [
       "<div>\n",
       "<style scoped>\n",
       "    .dataframe tbody tr th:only-of-type {\n",
       "        vertical-align: middle;\n",
       "    }\n",
       "\n",
       "    .dataframe tbody tr th {\n",
       "        vertical-align: top;\n",
       "    }\n",
       "\n",
       "    .dataframe thead th {\n",
       "        text-align: right;\n",
       "    }\n",
       "</style>\n",
       "<table border=\"1\" class=\"dataframe\">\n",
       "  <thead>\n",
       "    <tr style=\"text-align: right;\">\n",
       "      <th></th>\n",
       "      <th>Null / 233154</th>\n",
       "      <th>Null %age</th>\n",
       "    </tr>\n",
       "  </thead>\n",
       "  <tbody>\n",
       "    <tr>\n",
       "      <th>Employment.Type</th>\n",
       "      <td>7661</td>\n",
       "      <td>3.29</td>\n",
       "    </tr>\n",
       "  </tbody>\n",
       "</table>\n",
       "</div>"
      ],
      "text/plain": [
       "                 Null / 233154  Null %age\n",
       "Employment.Type           7661       3.29"
      ]
     },
     "execution_count": 7,
     "metadata": {},
     "output_type": "execute_result"
    }
   ],
   "source": [
    "get_nulls(df_train)"
   ]
  },
  {
   "cell_type": "code",
   "execution_count": 8,
   "metadata": {
    "ExecuteTime": {
     "end_time": "2019-04-18T17:24:10.099494Z",
     "start_time": "2019-04-18T17:24:09.689114Z"
    },
    "hidden": true
   },
   "outputs": [
    {
     "data": {
      "text/html": [
       "<div>\n",
       "<style scoped>\n",
       "    .dataframe tbody tr th:only-of-type {\n",
       "        vertical-align: middle;\n",
       "    }\n",
       "\n",
       "    .dataframe tbody tr th {\n",
       "        vertical-align: top;\n",
       "    }\n",
       "\n",
       "    .dataframe thead th {\n",
       "        text-align: right;\n",
       "    }\n",
       "</style>\n",
       "<table border=\"1\" class=\"dataframe\">\n",
       "  <thead>\n",
       "    <tr style=\"text-align: right;\">\n",
       "      <th></th>\n",
       "      <th>Null / 112392</th>\n",
       "      <th>Null %age</th>\n",
       "    </tr>\n",
       "  </thead>\n",
       "  <tbody>\n",
       "    <tr>\n",
       "      <th>Employment.Type</th>\n",
       "      <td>3443</td>\n",
       "      <td>3.06</td>\n",
       "    </tr>\n",
       "  </tbody>\n",
       "</table>\n",
       "</div>"
      ],
      "text/plain": [
       "                 Null / 112392  Null %age\n",
       "Employment.Type           3443       3.06"
      ]
     },
     "execution_count": 8,
     "metadata": {},
     "output_type": "execute_result"
    }
   ],
   "source": [
    "get_nulls(df_test)"
   ]
  },
  {
   "cell_type": "markdown",
   "metadata": {
    "hidden": true
   },
   "source": [
    "Among 41 columns only 1 columns **Employment.type** is having null values. Also, only about 3% of rows have nulls. But if we see it more carefully, since our dataset is pretty large the **3% is actually 7661 rows**.<br> Entire model can be built using such data. So why drop these rows. We can use **segmentation** here easily."
   ]
  },
  {
   "cell_type": "markdown",
   "metadata": {},
   "source": [
    "### Lets do some EDA"
   ]
  },
  {
   "cell_type": "markdown",
   "metadata": {},
   "source": [
    "#### Basic data heads and shapes"
   ]
  },
  {
   "cell_type": "code",
   "execution_count": 9,
   "metadata": {
    "ExecuteTime": {
     "end_time": "2019-04-18T17:24:10.116449Z",
     "start_time": "2019-04-18T17:24:10.100492Z"
    },
    "scrolled": true
   },
   "outputs": [
    {
     "data": {
      "text/html": [
       "<div>\n",
       "<style scoped>\n",
       "    .dataframe tbody tr th:only-of-type {\n",
       "        vertical-align: middle;\n",
       "    }\n",
       "\n",
       "    .dataframe tbody tr th {\n",
       "        vertical-align: top;\n",
       "    }\n",
       "\n",
       "    .dataframe thead th {\n",
       "        text-align: right;\n",
       "    }\n",
       "</style>\n",
       "<table border=\"1\" class=\"dataframe\">\n",
       "  <thead>\n",
       "    <tr style=\"text-align: right;\">\n",
       "      <th></th>\n",
       "      <th>UniqueID</th>\n",
       "      <th>disbursed_amount</th>\n",
       "      <th>asset_cost</th>\n",
       "      <th>ltv</th>\n",
       "      <th>branch_id</th>\n",
       "      <th>supplier_id</th>\n",
       "      <th>manufacturer_id</th>\n",
       "      <th>Current_pincode_ID</th>\n",
       "      <th>Date.of.Birth</th>\n",
       "      <th>Employment.Type</th>\n",
       "      <th>DisbursalDate</th>\n",
       "      <th>State_ID</th>\n",
       "      <th>Employee_code_ID</th>\n",
       "      <th>MobileNo_Avl_Flag</th>\n",
       "      <th>Aadhar_flag</th>\n",
       "      <th>PAN_flag</th>\n",
       "      <th>VoterID_flag</th>\n",
       "      <th>Driving_flag</th>\n",
       "      <th>Passport_flag</th>\n",
       "      <th>PERFORM_CNS.SCORE</th>\n",
       "      <th>PERFORM_CNS.SCORE.DESCRIPTION</th>\n",
       "      <th>PRI.NO.OF.ACCTS</th>\n",
       "      <th>PRI.ACTIVE.ACCTS</th>\n",
       "      <th>PRI.OVERDUE.ACCTS</th>\n",
       "      <th>PRI.CURRENT.BALANCE</th>\n",
       "      <th>PRI.SANCTIONED.AMOUNT</th>\n",
       "      <th>PRI.DISBURSED.AMOUNT</th>\n",
       "      <th>SEC.NO.OF.ACCTS</th>\n",
       "      <th>SEC.ACTIVE.ACCTS</th>\n",
       "      <th>SEC.OVERDUE.ACCTS</th>\n",
       "      <th>SEC.CURRENT.BALANCE</th>\n",
       "      <th>SEC.SANCTIONED.AMOUNT</th>\n",
       "      <th>SEC.DISBURSED.AMOUNT</th>\n",
       "      <th>PRIMARY.INSTAL.AMT</th>\n",
       "      <th>SEC.INSTAL.AMT</th>\n",
       "      <th>NEW.ACCTS.IN.LAST.SIX.MONTHS</th>\n",
       "      <th>DELINQUENT.ACCTS.IN.LAST.SIX.MONTHS</th>\n",
       "      <th>AVERAGE.ACCT.AGE</th>\n",
       "      <th>CREDIT.HISTORY.LENGTH</th>\n",
       "      <th>NO.OF_INQUIRIES</th>\n",
       "      <th>loan_default</th>\n",
       "    </tr>\n",
       "  </thead>\n",
       "  <tbody>\n",
       "    <tr>\n",
       "      <th>0</th>\n",
       "      <td>420825</td>\n",
       "      <td>50578</td>\n",
       "      <td>58400</td>\n",
       "      <td>89.55</td>\n",
       "      <td>67</td>\n",
       "      <td>22807</td>\n",
       "      <td>45</td>\n",
       "      <td>1441</td>\n",
       "      <td>01-01-84</td>\n",
       "      <td>Salaried</td>\n",
       "      <td>03-08-18</td>\n",
       "      <td>6</td>\n",
       "      <td>1998</td>\n",
       "      <td>1</td>\n",
       "      <td>1</td>\n",
       "      <td>0</td>\n",
       "      <td>0</td>\n",
       "      <td>0</td>\n",
       "      <td>0</td>\n",
       "      <td>0</td>\n",
       "      <td>No Bureau History Available</td>\n",
       "      <td>0</td>\n",
       "      <td>0</td>\n",
       "      <td>0</td>\n",
       "      <td>0</td>\n",
       "      <td>0</td>\n",
       "      <td>0</td>\n",
       "      <td>0</td>\n",
       "      <td>0</td>\n",
       "      <td>0</td>\n",
       "      <td>0</td>\n",
       "      <td>0</td>\n",
       "      <td>0</td>\n",
       "      <td>0</td>\n",
       "      <td>0</td>\n",
       "      <td>0</td>\n",
       "      <td>0</td>\n",
       "      <td>0yrs 0mon</td>\n",
       "      <td>0yrs 0mon</td>\n",
       "      <td>0</td>\n",
       "      <td>0</td>\n",
       "    </tr>\n",
       "    <tr>\n",
       "      <th>1</th>\n",
       "      <td>537409</td>\n",
       "      <td>47145</td>\n",
       "      <td>65550</td>\n",
       "      <td>73.23</td>\n",
       "      <td>67</td>\n",
       "      <td>22807</td>\n",
       "      <td>45</td>\n",
       "      <td>1502</td>\n",
       "      <td>31-07-85</td>\n",
       "      <td>Self employed</td>\n",
       "      <td>26-09-18</td>\n",
       "      <td>6</td>\n",
       "      <td>1998</td>\n",
       "      <td>1</td>\n",
       "      <td>1</td>\n",
       "      <td>0</td>\n",
       "      <td>0</td>\n",
       "      <td>0</td>\n",
       "      <td>0</td>\n",
       "      <td>598</td>\n",
       "      <td>I-Medium Risk</td>\n",
       "      <td>1</td>\n",
       "      <td>1</td>\n",
       "      <td>1</td>\n",
       "      <td>27600</td>\n",
       "      <td>50200</td>\n",
       "      <td>50200</td>\n",
       "      <td>0</td>\n",
       "      <td>0</td>\n",
       "      <td>0</td>\n",
       "      <td>0</td>\n",
       "      <td>0</td>\n",
       "      <td>0</td>\n",
       "      <td>1991</td>\n",
       "      <td>0</td>\n",
       "      <td>0</td>\n",
       "      <td>1</td>\n",
       "      <td>1yrs 11mon</td>\n",
       "      <td>1yrs 11mon</td>\n",
       "      <td>0</td>\n",
       "      <td>1</td>\n",
       "    </tr>\n",
       "    <tr>\n",
       "      <th>2</th>\n",
       "      <td>417566</td>\n",
       "      <td>53278</td>\n",
       "      <td>61360</td>\n",
       "      <td>89.63</td>\n",
       "      <td>67</td>\n",
       "      <td>22807</td>\n",
       "      <td>45</td>\n",
       "      <td>1497</td>\n",
       "      <td>24-08-85</td>\n",
       "      <td>Self employed</td>\n",
       "      <td>01-08-18</td>\n",
       "      <td>6</td>\n",
       "      <td>1998</td>\n",
       "      <td>1</td>\n",
       "      <td>1</td>\n",
       "      <td>0</td>\n",
       "      <td>0</td>\n",
       "      <td>0</td>\n",
       "      <td>0</td>\n",
       "      <td>0</td>\n",
       "      <td>No Bureau History Available</td>\n",
       "      <td>0</td>\n",
       "      <td>0</td>\n",
       "      <td>0</td>\n",
       "      <td>0</td>\n",
       "      <td>0</td>\n",
       "      <td>0</td>\n",
       "      <td>0</td>\n",
       "      <td>0</td>\n",
       "      <td>0</td>\n",
       "      <td>0</td>\n",
       "      <td>0</td>\n",
       "      <td>0</td>\n",
       "      <td>0</td>\n",
       "      <td>0</td>\n",
       "      <td>0</td>\n",
       "      <td>0</td>\n",
       "      <td>0yrs 0mon</td>\n",
       "      <td>0yrs 0mon</td>\n",
       "      <td>0</td>\n",
       "      <td>0</td>\n",
       "    </tr>\n",
       "    <tr>\n",
       "      <th>3</th>\n",
       "      <td>624493</td>\n",
       "      <td>57513</td>\n",
       "      <td>66113</td>\n",
       "      <td>88.48</td>\n",
       "      <td>67</td>\n",
       "      <td>22807</td>\n",
       "      <td>45</td>\n",
       "      <td>1501</td>\n",
       "      <td>30-12-93</td>\n",
       "      <td>Self employed</td>\n",
       "      <td>26-10-18</td>\n",
       "      <td>6</td>\n",
       "      <td>1998</td>\n",
       "      <td>1</td>\n",
       "      <td>1</td>\n",
       "      <td>0</td>\n",
       "      <td>0</td>\n",
       "      <td>0</td>\n",
       "      <td>0</td>\n",
       "      <td>305</td>\n",
       "      <td>L-Very High Risk</td>\n",
       "      <td>3</td>\n",
       "      <td>0</td>\n",
       "      <td>0</td>\n",
       "      <td>0</td>\n",
       "      <td>0</td>\n",
       "      <td>0</td>\n",
       "      <td>0</td>\n",
       "      <td>0</td>\n",
       "      <td>0</td>\n",
       "      <td>0</td>\n",
       "      <td>0</td>\n",
       "      <td>0</td>\n",
       "      <td>31</td>\n",
       "      <td>0</td>\n",
       "      <td>0</td>\n",
       "      <td>0</td>\n",
       "      <td>0yrs 8mon</td>\n",
       "      <td>1yrs 3mon</td>\n",
       "      <td>1</td>\n",
       "      <td>1</td>\n",
       "    </tr>\n",
       "    <tr>\n",
       "      <th>4</th>\n",
       "      <td>539055</td>\n",
       "      <td>52378</td>\n",
       "      <td>60300</td>\n",
       "      <td>88.39</td>\n",
       "      <td>67</td>\n",
       "      <td>22807</td>\n",
       "      <td>45</td>\n",
       "      <td>1495</td>\n",
       "      <td>09-12-77</td>\n",
       "      <td>Self employed</td>\n",
       "      <td>26-09-18</td>\n",
       "      <td>6</td>\n",
       "      <td>1998</td>\n",
       "      <td>1</td>\n",
       "      <td>1</td>\n",
       "      <td>0</td>\n",
       "      <td>0</td>\n",
       "      <td>0</td>\n",
       "      <td>0</td>\n",
       "      <td>0</td>\n",
       "      <td>No Bureau History Available</td>\n",
       "      <td>0</td>\n",
       "      <td>0</td>\n",
       "      <td>0</td>\n",
       "      <td>0</td>\n",
       "      <td>0</td>\n",
       "      <td>0</td>\n",
       "      <td>0</td>\n",
       "      <td>0</td>\n",
       "      <td>0</td>\n",
       "      <td>0</td>\n",
       "      <td>0</td>\n",
       "      <td>0</td>\n",
       "      <td>0</td>\n",
       "      <td>0</td>\n",
       "      <td>0</td>\n",
       "      <td>0</td>\n",
       "      <td>0yrs 0mon</td>\n",
       "      <td>0yrs 0mon</td>\n",
       "      <td>1</td>\n",
       "      <td>1</td>\n",
       "    </tr>\n",
       "  </tbody>\n",
       "</table>\n",
       "</div>"
      ],
      "text/plain": [
       "   UniqueID  disbursed_amount  asset_cost    ltv  branch_id  supplier_id  \\\n",
       "0    420825             50578       58400  89.55         67        22807   \n",
       "1    537409             47145       65550  73.23         67        22807   \n",
       "2    417566             53278       61360  89.63         67        22807   \n",
       "3    624493             57513       66113  88.48         67        22807   \n",
       "4    539055             52378       60300  88.39         67        22807   \n",
       "\n",
       "   manufacturer_id  Current_pincode_ID Date.of.Birth Employment.Type  \\\n",
       "0               45                1441      01-01-84        Salaried   \n",
       "1               45                1502      31-07-85   Self employed   \n",
       "2               45                1497      24-08-85   Self employed   \n",
       "3               45                1501      30-12-93   Self employed   \n",
       "4               45                1495      09-12-77   Self employed   \n",
       "\n",
       "  DisbursalDate  State_ID  Employee_code_ID  MobileNo_Avl_Flag  Aadhar_flag  \\\n",
       "0      03-08-18         6              1998                  1            1   \n",
       "1      26-09-18         6              1998                  1            1   \n",
       "2      01-08-18         6              1998                  1            1   \n",
       "3      26-10-18         6              1998                  1            1   \n",
       "4      26-09-18         6              1998                  1            1   \n",
       "\n",
       "   PAN_flag  VoterID_flag  Driving_flag  Passport_flag  PERFORM_CNS.SCORE  \\\n",
       "0         0             0             0              0                  0   \n",
       "1         0             0             0              0                598   \n",
       "2         0             0             0              0                  0   \n",
       "3         0             0             0              0                305   \n",
       "4         0             0             0              0                  0   \n",
       "\n",
       "  PERFORM_CNS.SCORE.DESCRIPTION  PRI.NO.OF.ACCTS  PRI.ACTIVE.ACCTS  \\\n",
       "0   No Bureau History Available                0                 0   \n",
       "1                 I-Medium Risk                1                 1   \n",
       "2   No Bureau History Available                0                 0   \n",
       "3              L-Very High Risk                3                 0   \n",
       "4   No Bureau History Available                0                 0   \n",
       "\n",
       "   PRI.OVERDUE.ACCTS  PRI.CURRENT.BALANCE  PRI.SANCTIONED.AMOUNT  \\\n",
       "0                  0                    0                      0   \n",
       "1                  1                27600                  50200   \n",
       "2                  0                    0                      0   \n",
       "3                  0                    0                      0   \n",
       "4                  0                    0                      0   \n",
       "\n",
       "   PRI.DISBURSED.AMOUNT  SEC.NO.OF.ACCTS  SEC.ACTIVE.ACCTS  SEC.OVERDUE.ACCTS  \\\n",
       "0                     0                0                 0                  0   \n",
       "1                 50200                0                 0                  0   \n",
       "2                     0                0                 0                  0   \n",
       "3                     0                0                 0                  0   \n",
       "4                     0                0                 0                  0   \n",
       "\n",
       "   SEC.CURRENT.BALANCE  SEC.SANCTIONED.AMOUNT  SEC.DISBURSED.AMOUNT  \\\n",
       "0                    0                      0                     0   \n",
       "1                    0                      0                     0   \n",
       "2                    0                      0                     0   \n",
       "3                    0                      0                     0   \n",
       "4                    0                      0                     0   \n",
       "\n",
       "   PRIMARY.INSTAL.AMT  SEC.INSTAL.AMT  NEW.ACCTS.IN.LAST.SIX.MONTHS  \\\n",
       "0                   0               0                             0   \n",
       "1                1991               0                             0   \n",
       "2                   0               0                             0   \n",
       "3                  31               0                             0   \n",
       "4                   0               0                             0   \n",
       "\n",
       "   DELINQUENT.ACCTS.IN.LAST.SIX.MONTHS AVERAGE.ACCT.AGE CREDIT.HISTORY.LENGTH  \\\n",
       "0                                    0        0yrs 0mon             0yrs 0mon   \n",
       "1                                    1       1yrs 11mon            1yrs 11mon   \n",
       "2                                    0        0yrs 0mon             0yrs 0mon   \n",
       "3                                    0        0yrs 8mon             1yrs 3mon   \n",
       "4                                    0        0yrs 0mon             0yrs 0mon   \n",
       "\n",
       "   NO.OF_INQUIRIES  loan_default  \n",
       "0                0             0  \n",
       "1                0             1  \n",
       "2                0             0  \n",
       "3                1             1  \n",
       "4                1             1  "
      ]
     },
     "execution_count": 9,
     "metadata": {},
     "output_type": "execute_result"
    }
   ],
   "source": [
    "df_train.head()"
   ]
  },
  {
   "cell_type": "code",
   "execution_count": 10,
   "metadata": {
    "ExecuteTime": {
     "end_time": "2019-04-18T17:24:10.186262Z",
     "start_time": "2019-04-18T17:24:10.117447Z"
    }
   },
   "outputs": [
    {
     "data": {
      "text/plain": [
       "(233154, 41)"
      ]
     },
     "execution_count": 10,
     "metadata": {},
     "output_type": "execute_result"
    }
   ],
   "source": [
    "df_train.shape"
   ]
  },
  {
   "cell_type": "code",
   "execution_count": 11,
   "metadata": {
    "ExecuteTime": {
     "end_time": "2019-04-18T17:24:10.393925Z",
     "start_time": "2019-04-18T17:24:10.187260Z"
    }
   },
   "outputs": [
    {
     "data": {
      "text/html": [
       "<div>\n",
       "<style scoped>\n",
       "    .dataframe tbody tr th:only-of-type {\n",
       "        vertical-align: middle;\n",
       "    }\n",
       "\n",
       "    .dataframe tbody tr th {\n",
       "        vertical-align: top;\n",
       "    }\n",
       "\n",
       "    .dataframe thead th {\n",
       "        text-align: right;\n",
       "    }\n",
       "</style>\n",
       "<table border=\"1\" class=\"dataframe\">\n",
       "  <thead>\n",
       "    <tr style=\"text-align: right;\">\n",
       "      <th></th>\n",
       "      <th>UniqueID</th>\n",
       "      <th>disbursed_amount</th>\n",
       "      <th>asset_cost</th>\n",
       "      <th>ltv</th>\n",
       "      <th>branch_id</th>\n",
       "      <th>supplier_id</th>\n",
       "      <th>manufacturer_id</th>\n",
       "      <th>Current_pincode_ID</th>\n",
       "      <th>Date.of.Birth</th>\n",
       "      <th>Employment.Type</th>\n",
       "      <th>DisbursalDate</th>\n",
       "      <th>State_ID</th>\n",
       "      <th>Employee_code_ID</th>\n",
       "      <th>MobileNo_Avl_Flag</th>\n",
       "      <th>Aadhar_flag</th>\n",
       "      <th>PAN_flag</th>\n",
       "      <th>VoterID_flag</th>\n",
       "      <th>Driving_flag</th>\n",
       "      <th>Passport_flag</th>\n",
       "      <th>PERFORM_CNS.SCORE</th>\n",
       "      <th>PERFORM_CNS.SCORE.DESCRIPTION</th>\n",
       "      <th>PRI.NO.OF.ACCTS</th>\n",
       "      <th>PRI.ACTIVE.ACCTS</th>\n",
       "      <th>PRI.OVERDUE.ACCTS</th>\n",
       "      <th>PRI.CURRENT.BALANCE</th>\n",
       "      <th>PRI.SANCTIONED.AMOUNT</th>\n",
       "      <th>PRI.DISBURSED.AMOUNT</th>\n",
       "      <th>SEC.NO.OF.ACCTS</th>\n",
       "      <th>SEC.ACTIVE.ACCTS</th>\n",
       "      <th>SEC.OVERDUE.ACCTS</th>\n",
       "      <th>SEC.CURRENT.BALANCE</th>\n",
       "      <th>SEC.SANCTIONED.AMOUNT</th>\n",
       "      <th>SEC.DISBURSED.AMOUNT</th>\n",
       "      <th>PRIMARY.INSTAL.AMT</th>\n",
       "      <th>SEC.INSTAL.AMT</th>\n",
       "      <th>NEW.ACCTS.IN.LAST.SIX.MONTHS</th>\n",
       "      <th>DELINQUENT.ACCTS.IN.LAST.SIX.MONTHS</th>\n",
       "      <th>AVERAGE.ACCT.AGE</th>\n",
       "      <th>CREDIT.HISTORY.LENGTH</th>\n",
       "      <th>NO.OF_INQUIRIES</th>\n",
       "    </tr>\n",
       "  </thead>\n",
       "  <tbody>\n",
       "    <tr>\n",
       "      <th>0</th>\n",
       "      <td>655269</td>\n",
       "      <td>53478</td>\n",
       "      <td>63558</td>\n",
       "      <td>86.54</td>\n",
       "      <td>67</td>\n",
       "      <td>22807</td>\n",
       "      <td>45</td>\n",
       "      <td>1497</td>\n",
       "      <td>01-01-74</td>\n",
       "      <td>Salaried</td>\n",
       "      <td>03-11-18</td>\n",
       "      <td>6</td>\n",
       "      <td>1998</td>\n",
       "      <td>1</td>\n",
       "      <td>1</td>\n",
       "      <td>0</td>\n",
       "      <td>0</td>\n",
       "      <td>0</td>\n",
       "      <td>0</td>\n",
       "      <td>0</td>\n",
       "      <td>No Bureau History Available</td>\n",
       "      <td>0</td>\n",
       "      <td>0</td>\n",
       "      <td>0</td>\n",
       "      <td>0</td>\n",
       "      <td>0</td>\n",
       "      <td>0</td>\n",
       "      <td>0</td>\n",
       "      <td>0</td>\n",
       "      <td>0</td>\n",
       "      <td>0</td>\n",
       "      <td>0</td>\n",
       "      <td>0</td>\n",
       "      <td>0</td>\n",
       "      <td>0</td>\n",
       "      <td>0</td>\n",
       "      <td>0</td>\n",
       "      <td>0yrs 0mon</td>\n",
       "      <td>0yrs 0mon</td>\n",
       "      <td>0</td>\n",
       "    </tr>\n",
       "    <tr>\n",
       "      <th>1</th>\n",
       "      <td>723482</td>\n",
       "      <td>55513</td>\n",
       "      <td>63163</td>\n",
       "      <td>89.45</td>\n",
       "      <td>67</td>\n",
       "      <td>22807</td>\n",
       "      <td>45</td>\n",
       "      <td>1497</td>\n",
       "      <td>20-05-85</td>\n",
       "      <td>Self employed</td>\n",
       "      <td>20-11-18</td>\n",
       "      <td>6</td>\n",
       "      <td>1998</td>\n",
       "      <td>1</td>\n",
       "      <td>1</td>\n",
       "      <td>0</td>\n",
       "      <td>0</td>\n",
       "      <td>0</td>\n",
       "      <td>0</td>\n",
       "      <td>749</td>\n",
       "      <td>C-Very Low Risk</td>\n",
       "      <td>2</td>\n",
       "      <td>1</td>\n",
       "      <td>0</td>\n",
       "      <td>43898</td>\n",
       "      <td>48780</td>\n",
       "      <td>48780</td>\n",
       "      <td>0</td>\n",
       "      <td>0</td>\n",
       "      <td>0</td>\n",
       "      <td>0</td>\n",
       "      <td>0</td>\n",
       "      <td>0</td>\n",
       "      <td>5605</td>\n",
       "      <td>0</td>\n",
       "      <td>1</td>\n",
       "      <td>0</td>\n",
       "      <td>0yrs 8mon</td>\n",
       "      <td>1yrs 0mon</td>\n",
       "      <td>1</td>\n",
       "    </tr>\n",
       "    <tr>\n",
       "      <th>2</th>\n",
       "      <td>758529</td>\n",
       "      <td>65282</td>\n",
       "      <td>84320</td>\n",
       "      <td>79.93</td>\n",
       "      <td>78</td>\n",
       "      <td>23135</td>\n",
       "      <td>86</td>\n",
       "      <td>2071</td>\n",
       "      <td>14-10-95</td>\n",
       "      <td>Salaried</td>\n",
       "      <td>29-11-18</td>\n",
       "      <td>4</td>\n",
       "      <td>1646</td>\n",
       "      <td>1</td>\n",
       "      <td>1</td>\n",
       "      <td>1</td>\n",
       "      <td>0</td>\n",
       "      <td>0</td>\n",
       "      <td>0</td>\n",
       "      <td>0</td>\n",
       "      <td>No Bureau History Available</td>\n",
       "      <td>0</td>\n",
       "      <td>0</td>\n",
       "      <td>0</td>\n",
       "      <td>0</td>\n",
       "      <td>0</td>\n",
       "      <td>0</td>\n",
       "      <td>0</td>\n",
       "      <td>0</td>\n",
       "      <td>0</td>\n",
       "      <td>0</td>\n",
       "      <td>0</td>\n",
       "      <td>0</td>\n",
       "      <td>0</td>\n",
       "      <td>0</td>\n",
       "      <td>0</td>\n",
       "      <td>0</td>\n",
       "      <td>0yrs 0mon</td>\n",
       "      <td>0yrs 0mon</td>\n",
       "      <td>0</td>\n",
       "    </tr>\n",
       "    <tr>\n",
       "      <th>3</th>\n",
       "      <td>763449</td>\n",
       "      <td>46905</td>\n",
       "      <td>63896</td>\n",
       "      <td>76.58</td>\n",
       "      <td>78</td>\n",
       "      <td>17014</td>\n",
       "      <td>45</td>\n",
       "      <td>2070</td>\n",
       "      <td>01-06-73</td>\n",
       "      <td>Self employed</td>\n",
       "      <td>29-11-18</td>\n",
       "      <td>4</td>\n",
       "      <td>1646</td>\n",
       "      <td>1</td>\n",
       "      <td>1</td>\n",
       "      <td>0</td>\n",
       "      <td>0</td>\n",
       "      <td>0</td>\n",
       "      <td>0</td>\n",
       "      <td>14</td>\n",
       "      <td>Not Scored: Only a Guarantor</td>\n",
       "      <td>1</td>\n",
       "      <td>1</td>\n",
       "      <td>1</td>\n",
       "      <td>132480</td>\n",
       "      <td>255000</td>\n",
       "      <td>255000</td>\n",
       "      <td>0</td>\n",
       "      <td>0</td>\n",
       "      <td>0</td>\n",
       "      <td>0</td>\n",
       "      <td>0</td>\n",
       "      <td>0</td>\n",
       "      <td>0</td>\n",
       "      <td>0</td>\n",
       "      <td>0</td>\n",
       "      <td>0</td>\n",
       "      <td>2yrs 5mon</td>\n",
       "      <td>2yrs 5mon</td>\n",
       "      <td>0</td>\n",
       "    </tr>\n",
       "    <tr>\n",
       "      <th>4</th>\n",
       "      <td>708663</td>\n",
       "      <td>51428</td>\n",
       "      <td>63896</td>\n",
       "      <td>86.08</td>\n",
       "      <td>78</td>\n",
       "      <td>17014</td>\n",
       "      <td>45</td>\n",
       "      <td>2069</td>\n",
       "      <td>01-06-72</td>\n",
       "      <td>Salaried</td>\n",
       "      <td>17-11-18</td>\n",
       "      <td>4</td>\n",
       "      <td>1646</td>\n",
       "      <td>1</td>\n",
       "      <td>1</td>\n",
       "      <td>0</td>\n",
       "      <td>0</td>\n",
       "      <td>0</td>\n",
       "      <td>0</td>\n",
       "      <td>0</td>\n",
       "      <td>No Bureau History Available</td>\n",
       "      <td>0</td>\n",
       "      <td>0</td>\n",
       "      <td>0</td>\n",
       "      <td>0</td>\n",
       "      <td>0</td>\n",
       "      <td>0</td>\n",
       "      <td>0</td>\n",
       "      <td>0</td>\n",
       "      <td>0</td>\n",
       "      <td>0</td>\n",
       "      <td>0</td>\n",
       "      <td>0</td>\n",
       "      <td>0</td>\n",
       "      <td>0</td>\n",
       "      <td>0</td>\n",
       "      <td>0</td>\n",
       "      <td>0yrs 0mon</td>\n",
       "      <td>0yrs 0mon</td>\n",
       "      <td>0</td>\n",
       "    </tr>\n",
       "  </tbody>\n",
       "</table>\n",
       "</div>"
      ],
      "text/plain": [
       "   UniqueID  disbursed_amount  asset_cost    ltv  branch_id  supplier_id  \\\n",
       "0    655269             53478       63558  86.54         67        22807   \n",
       "1    723482             55513       63163  89.45         67        22807   \n",
       "2    758529             65282       84320  79.93         78        23135   \n",
       "3    763449             46905       63896  76.58         78        17014   \n",
       "4    708663             51428       63896  86.08         78        17014   \n",
       "\n",
       "   manufacturer_id  Current_pincode_ID Date.of.Birth Employment.Type  \\\n",
       "0               45                1497      01-01-74        Salaried   \n",
       "1               45                1497      20-05-85   Self employed   \n",
       "2               86                2071      14-10-95        Salaried   \n",
       "3               45                2070      01-06-73   Self employed   \n",
       "4               45                2069      01-06-72        Salaried   \n",
       "\n",
       "  DisbursalDate  State_ID  Employee_code_ID  MobileNo_Avl_Flag  Aadhar_flag  \\\n",
       "0      03-11-18         6              1998                  1            1   \n",
       "1      20-11-18         6              1998                  1            1   \n",
       "2      29-11-18         4              1646                  1            1   \n",
       "3      29-11-18         4              1646                  1            1   \n",
       "4      17-11-18         4              1646                  1            1   \n",
       "\n",
       "   PAN_flag  VoterID_flag  Driving_flag  Passport_flag  PERFORM_CNS.SCORE  \\\n",
       "0         0             0             0              0                  0   \n",
       "1         0             0             0              0                749   \n",
       "2         1             0             0              0                  0   \n",
       "3         0             0             0              0                 14   \n",
       "4         0             0             0              0                  0   \n",
       "\n",
       "  PERFORM_CNS.SCORE.DESCRIPTION  PRI.NO.OF.ACCTS  PRI.ACTIVE.ACCTS  \\\n",
       "0   No Bureau History Available                0                 0   \n",
       "1               C-Very Low Risk                2                 1   \n",
       "2   No Bureau History Available                0                 0   \n",
       "3  Not Scored: Only a Guarantor                1                 1   \n",
       "4   No Bureau History Available                0                 0   \n",
       "\n",
       "   PRI.OVERDUE.ACCTS  PRI.CURRENT.BALANCE  PRI.SANCTIONED.AMOUNT  \\\n",
       "0                  0                    0                      0   \n",
       "1                  0                43898                  48780   \n",
       "2                  0                    0                      0   \n",
       "3                  1               132480                 255000   \n",
       "4                  0                    0                      0   \n",
       "\n",
       "   PRI.DISBURSED.AMOUNT  SEC.NO.OF.ACCTS  SEC.ACTIVE.ACCTS  SEC.OVERDUE.ACCTS  \\\n",
       "0                     0                0                 0                  0   \n",
       "1                 48780                0                 0                  0   \n",
       "2                     0                0                 0                  0   \n",
       "3                255000                0                 0                  0   \n",
       "4                     0                0                 0                  0   \n",
       "\n",
       "   SEC.CURRENT.BALANCE  SEC.SANCTIONED.AMOUNT  SEC.DISBURSED.AMOUNT  \\\n",
       "0                    0                      0                     0   \n",
       "1                    0                      0                     0   \n",
       "2                    0                      0                     0   \n",
       "3                    0                      0                     0   \n",
       "4                    0                      0                     0   \n",
       "\n",
       "   PRIMARY.INSTAL.AMT  SEC.INSTAL.AMT  NEW.ACCTS.IN.LAST.SIX.MONTHS  \\\n",
       "0                   0               0                             0   \n",
       "1                5605               0                             1   \n",
       "2                   0               0                             0   \n",
       "3                   0               0                             0   \n",
       "4                   0               0                             0   \n",
       "\n",
       "   DELINQUENT.ACCTS.IN.LAST.SIX.MONTHS AVERAGE.ACCT.AGE CREDIT.HISTORY.LENGTH  \\\n",
       "0                                    0        0yrs 0mon             0yrs 0mon   \n",
       "1                                    0        0yrs 8mon             1yrs 0mon   \n",
       "2                                    0        0yrs 0mon             0yrs 0mon   \n",
       "3                                    0        2yrs 5mon             2yrs 5mon   \n",
       "4                                    0        0yrs 0mon             0yrs 0mon   \n",
       "\n",
       "   NO.OF_INQUIRIES  \n",
       "0                0  \n",
       "1                1  \n",
       "2                0  \n",
       "3                0  \n",
       "4                0  "
      ]
     },
     "execution_count": 11,
     "metadata": {},
     "output_type": "execute_result"
    }
   ],
   "source": [
    "df_test.head()"
   ]
  },
  {
   "cell_type": "code",
   "execution_count": 12,
   "metadata": {
    "ExecuteTime": {
     "end_time": "2019-04-18T17:24:10.445000Z",
     "start_time": "2019-04-18T17:24:10.394910Z"
    }
   },
   "outputs": [
    {
     "data": {
      "text/plain": [
       "(112392, 40)"
      ]
     },
     "execution_count": 12,
     "metadata": {},
     "output_type": "execute_result"
    }
   ],
   "source": [
    "df_test.shape"
   ]
  },
  {
   "cell_type": "markdown",
   "metadata": {
    "heading_collapsed": true
   },
   "source": [
    "#### UniqueID"
   ]
  },
  {
   "cell_type": "code",
   "execution_count": 13,
   "metadata": {
    "ExecuteTime": {
     "end_time": "2019-04-18T17:24:10.562390Z",
     "start_time": "2019-04-18T17:24:10.445988Z"
    },
    "hidden": true
   },
   "outputs": [],
   "source": [
    "# Add column labels to to_drop list to drop them at once\n",
    "to_drop = []"
   ]
  },
  {
   "cell_type": "code",
   "execution_count": 14,
   "metadata": {
    "ExecuteTime": {
     "end_time": "2019-04-18T17:24:10.647484Z",
     "start_time": "2019-04-18T17:24:10.563386Z"
    },
    "hidden": true
   },
   "outputs": [],
   "source": [
    "# UniqueID is of no use for model\n",
    "to_drop.append('UniqueID')"
   ]
  },
  {
   "cell_type": "markdown",
   "metadata": {
    "heading_collapsed": true
   },
   "source": [
    "#### disbursed amount"
   ]
  },
  {
   "cell_type": "code",
   "execution_count": 15,
   "metadata": {
    "ExecuteTime": {
     "end_time": "2019-04-18T17:24:11.542436Z",
     "start_time": "2019-04-18T17:24:10.651507Z"
    },
    "hidden": true
   },
   "outputs": [
    {
     "data": {
      "text/plain": [
       "<matplotlib.axes._subplots.AxesSubplot at 0x1aa17d77a90>"
      ]
     },
     "execution_count": 15,
     "metadata": {},
     "output_type": "execute_result"
    },
    {
     "data": {
      "image/png": "[encoded data removed]",
      "text/plain": [
       "<Figure size 432x288 with 1 Axes>"
      ]
     },
     "metadata": {
      "needs_background": "light"
     },
     "output_type": "display_data"
    }
   ],
   "source": [
    "# disbursed amount\n",
    "sns.distplot(df_train['disbursed_amount'])"
   ]
  },
  {
   "cell_type": "code",
   "execution_count": 16,
   "metadata": {
    "ExecuteTime": {
     "end_time": "2019-04-18T17:24:11.723978Z",
     "start_time": "2019-04-18T17:24:11.543455Z"
    },
    "hidden": true
   },
   "outputs": [
    {
     "data": {
      "text/plain": [
       "<matplotlib.axes._subplots.AxesSubplot at 0x1aa1837cc88>"
      ]
     },
     "execution_count": 16,
     "metadata": {},
     "output_type": "execute_result"
    },
    {
     "data": {
      "image/png": "[encoded data removed]",
      "text/plain": [
       "<Figure size 432x288 with 1 Axes>"
      ]
     },
     "metadata": {
      "needs_background": "light"
     },
     "output_type": "display_data"
    }
   ],
   "source": [
    "sns.distplot(np.log(df_train['disbursed_amount'].values))"
   ]
  },
  {
   "cell_type": "code",
   "execution_count": 17,
   "metadata": {
    "ExecuteTime": {
     "end_time": "2019-04-18T17:24:11.727942Z",
     "start_time": "2019-04-18T17:24:11.724949Z"
    },
    "hidden": true
   },
   "outputs": [],
   "source": [
    "# So we will transform disbursed_amount to log scale\n",
    "def to_log(X, labels):\n",
    "    for label in labels:\n",
    "        X[label] = np.log(df_train[label].values)\n",
    "    return X"
   ]
  },
  {
   "cell_type": "code",
   "execution_count": 18,
   "metadata": {
    "ExecuteTime": {
     "end_time": "2019-04-18T17:24:11.796890Z",
     "start_time": "2019-04-18T17:24:11.730932Z"
    },
    "hidden": true
   },
   "outputs": [],
   "source": [
    "log_labels = []"
   ]
  },
  {
   "cell_type": "code",
   "execution_count": 19,
   "metadata": {
    "ExecuteTime": {
     "end_time": "2019-04-18T17:24:11.868870Z",
     "start_time": "2019-04-18T17:24:11.800853Z"
    },
    "hidden": true
   },
   "outputs": [],
   "source": [
    "log_labels.append('disbursed_amount')"
   ]
  },
  {
   "cell_type": "markdown",
   "metadata": {
    "heading_collapsed": true
   },
   "source": [
    "#### asset_cost"
   ]
  },
  {
   "cell_type": "code",
   "execution_count": 20,
   "metadata": {
    "ExecuteTime": {
     "end_time": "2019-04-18T17:24:12.145140Z",
     "start_time": "2019-04-18T17:24:11.869873Z"
    },
    "hidden": true
   },
   "outputs": [
    {
     "data": {
      "text/plain": [
       "<matplotlib.axes._subplots.AxesSubplot at 0x1aa18308cf8>"
      ]
     },
     "execution_count": 20,
     "metadata": {},
     "output_type": "execute_result"
    },
    {
     "data": {
      "image/png": "[encoded data removed]",
      "text/plain": [
       "<Figure size 432x288 with 1 Axes>"
      ]
     },
     "metadata": {
      "needs_background": "light"
     },
     "output_type": "display_data"
    }
   ],
   "source": [
    "# asset_cost\n",
    "sns.distplot(df_train['asset_cost'])"
   ]
  },
  {
   "cell_type": "code",
   "execution_count": 21,
   "metadata": {
    "ExecuteTime": {
     "end_time": "2019-04-18T17:24:12.351586Z",
     "start_time": "2019-04-18T17:24:12.146110Z"
    },
    "hidden": true
   },
   "outputs": [
    {
     "data": {
      "text/plain": [
       "<matplotlib.axes._subplots.AxesSubplot at 0x1aa184ec898>"
      ]
     },
     "execution_count": 21,
     "metadata": {},
     "output_type": "execute_result"
    },
    {
     "data": {
      "image/png": "[encoded data removed]",
      "text/plain": [
       "<Figure size 432x288 with 1 Axes>"
      ]
     },
     "metadata": {
      "needs_background": "light"
     },
     "output_type": "display_data"
    }
   ],
   "source": [
    "sns.distplot(np.log(df_train['asset_cost'].values))"
   ]
  },
  {
   "cell_type": "code",
   "execution_count": 22,
   "metadata": {
    "ExecuteTime": {
     "end_time": "2019-04-18T17:24:12.354581Z",
     "start_time": "2019-04-18T17:24:12.352557Z"
    },
    "hidden": true
   },
   "outputs": [],
   "source": [
    "log_labels.append('asset_cost')"
   ]
  },
  {
   "cell_type": "markdown",
   "metadata": {
    "heading_collapsed": true
   },
   "source": [
    "#### ltv"
   ]
  },
  {
   "cell_type": "code",
   "execution_count": 23,
   "metadata": {
    "ExecuteTime": {
     "end_time": "2019-04-18T17:24:12.617915Z",
     "start_time": "2019-04-18T17:24:12.355577Z"
    },
    "hidden": true
   },
   "outputs": [
    {
     "data": {
      "text/plain": [
       "<matplotlib.axes._subplots.AxesSubplot at 0x1aa185d0940>"
      ]
     },
     "execution_count": 23,
     "metadata": {},
     "output_type": "execute_result"
    },
    {
     "data": {
      "image/png": "[encoded data removed]",
      "text/plain": [
       "<Figure size 432x288 with 1 Axes>"
      ]
     },
     "metadata": {
      "needs_background": "light"
     },
     "output_type": "display_data"
    }
   ],
   "source": [
    "sns.distplot(df_train['ltv'])"
   ]
  },
  {
   "cell_type": "markdown",
   "metadata": {
    "heading_collapsed": true
   },
   "source": [
    "#### branch_id"
   ]
  },
  {
   "cell_type": "code",
   "execution_count": 24,
   "metadata": {
    "ExecuteTime": {
     "end_time": "2019-04-18T17:24:12.638053Z",
     "start_time": "2019-04-18T17:24:12.618884Z"
    },
    "hidden": true
   },
   "outputs": [
    {
     "data": {
      "text/plain": [
       "82"
      ]
     },
     "execution_count": 24,
     "metadata": {},
     "output_type": "execute_result"
    }
   ],
   "source": [
    "df_train['branch_id'].nunique()"
   ]
  },
  {
   "cell_type": "code",
   "execution_count": 25,
   "metadata": {
    "ExecuteTime": {
     "end_time": "2019-04-18T17:24:12.726922Z",
     "start_time": "2019-04-18T17:24:12.639009Z"
    },
    "hidden": true
   },
   "outputs": [],
   "source": [
    "def cat_feature_vs_target(X, label, target):\n",
    "    \n",
    "    temp = df_train.groupby(by=label, as_index=False)[[target]].sum()\n",
    "\n",
    "    temp1 = df_train.groupby(by=label, as_index=False)[[target]].count()\n",
    "\n",
    "    temp['% age'] = temp[target]/temp1[target]*100\n",
    "\n",
    "    temp['total'] = temp1[target]\n",
    "    return temp"
   ]
  },
  {
   "cell_type": "code",
   "execution_count": 26,
   "metadata": {
    "ExecuteTime": {
     "end_time": "2019-04-18T17:24:12.996889Z",
     "start_time": "2019-04-18T17:24:12.727894Z"
    },
    "hidden": true
   },
   "outputs": [
    {
     "data": {
      "text/plain": [
       "<matplotlib.axes._subplots.AxesSubplot at 0x1aa18d843c8>"
      ]
     },
     "execution_count": 26,
     "metadata": {},
     "output_type": "execute_result"
    },
    {
     "data": {
      "image/png": "[encoded data removed]",
      "text/plain": [
       "<Figure size 432x288 with 1 Axes>"
      ]
     },
     "metadata": {
      "needs_background": "light"
     },
     "output_type": "display_data"
    }
   ],
   "source": [
    "br_id = cat_feature_vs_target(df_train, 'branch_id', 'loan_default')\n",
    "br_id.sort_values(by='% age', ascending=False)['% age'].hist(bins=20)"
   ]
  },
  {
   "cell_type": "markdown",
   "metadata": {
    "heading_collapsed": true
   },
   "source": [
    "#### supplier_id"
   ]
  },
  {
   "cell_type": "code",
   "execution_count": 27,
   "metadata": {
    "ExecuteTime": {
     "end_time": "2019-04-18T17:24:13.104575Z",
     "start_time": "2019-04-18T17:24:12.997887Z"
    },
    "hidden": true,
    "scrolled": false
   },
   "outputs": [
    {
     "data": {
      "text/plain": [
       "<matplotlib.axes._subplots.AxesSubplot at 0x1aa18e0b208>"
      ]
     },
     "execution_count": 27,
     "metadata": {},
     "output_type": "execute_result"
    },
    {
     "data": {
      "image/png": "[encoded data removed]",
      "text/plain": [
       "<Figure size 432x288 with 1 Axes>"
      ]
     },
     "metadata": {
      "needs_background": "light"
     },
     "output_type": "display_data"
    }
   ],
   "source": [
    "# This represents the shop that sold the vehicle to customer\n",
    "sup_id = cat_feature_vs_target(df_train, 'supplier_id', 'loan_default')\n",
    "sup_id.sort_values(by='% age', ascending=False)['% age'].hist()"
   ]
  },
  {
   "cell_type": "markdown",
   "metadata": {
    "heading_collapsed": true
   },
   "source": [
    "#### manufacturer_id"
   ]
  },
  {
   "cell_type": "code",
   "execution_count": 28,
   "metadata": {
    "ExecuteTime": {
     "end_time": "2019-04-18T17:24:13.120675Z",
     "start_time": "2019-04-18T17:24:13.105599Z"
    },
    "hidden": true
   },
   "outputs": [],
   "source": [
    "# This represents the brand of vehicle\n",
    "sup_id = cat_feature_vs_target(df_train, 'manufacturer_id', 'loan_default')"
   ]
  },
  {
   "cell_type": "code",
   "execution_count": 29,
   "metadata": {
    "ExecuteTime": {
     "end_time": "2019-04-18T17:24:13.184329Z",
     "start_time": "2019-04-18T17:24:13.121701Z"
    },
    "hidden": true
   },
   "outputs": [
    {
     "data": {
      "text/html": [
       "<div>\n",
       "<style scoped>\n",
       "    .dataframe tbody tr th:only-of-type {\n",
       "        vertical-align: middle;\n",
       "    }\n",
       "\n",
       "    .dataframe tbody tr th {\n",
       "        vertical-align: top;\n",
       "    }\n",
       "\n",
       "    .dataframe thead th {\n",
       "        text-align: right;\n",
       "    }\n",
       "</style>\n",
       "<table border=\"1\" class=\"dataframe\">\n",
       "  <thead>\n",
       "    <tr style=\"text-align: right;\">\n",
       "      <th></th>\n",
       "      <th>manufacturer_id</th>\n",
       "      <th>loan_default</th>\n",
       "      <th>% age</th>\n",
       "      <th>total</th>\n",
       "    </tr>\n",
       "  </thead>\n",
       "  <tbody>\n",
       "    <tr>\n",
       "      <th>9</th>\n",
       "      <td>153</td>\n",
       "      <td>4</td>\n",
       "      <td>33.333333</td>\n",
       "      <td>12</td>\n",
       "    </tr>\n",
       "    <tr>\n",
       "      <th>1</th>\n",
       "      <td>48</td>\n",
       "      <td>4554</td>\n",
       "      <td>27.253142</td>\n",
       "      <td>16710</td>\n",
       "    </tr>\n",
       "    <tr>\n",
       "      <th>0</th>\n",
       "      <td>45</td>\n",
       "      <td>12939</td>\n",
       "      <td>22.849928</td>\n",
       "      <td>56626</td>\n",
       "    </tr>\n",
       "    <tr>\n",
       "      <th>6</th>\n",
       "      <td>120</td>\n",
       "      <td>2132</td>\n",
       "      <td>22.074964</td>\n",
       "      <td>9658</td>\n",
       "    </tr>\n",
       "    <tr>\n",
       "      <th>2</th>\n",
       "      <td>49</td>\n",
       "      <td>2236</td>\n",
       "      <td>21.878669</td>\n",
       "      <td>10220</td>\n",
       "    </tr>\n",
       "    <tr>\n",
       "      <th>4</th>\n",
       "      <td>67</td>\n",
       "      <td>523</td>\n",
       "      <td>21.746362</td>\n",
       "      <td>2405</td>\n",
       "    </tr>\n",
       "    <tr>\n",
       "      <th>3</th>\n",
       "      <td>51</td>\n",
       "      <td>5657</td>\n",
       "      <td>20.794736</td>\n",
       "      <td>27204</td>\n",
       "    </tr>\n",
       "    <tr>\n",
       "      <th>5</th>\n",
       "      <td>86</td>\n",
       "      <td>22410</td>\n",
       "      <td>20.459401</td>\n",
       "      <td>109534</td>\n",
       "    </tr>\n",
       "    <tr>\n",
       "      <th>7</th>\n",
       "      <td>145</td>\n",
       "      <td>156</td>\n",
       "      <td>20.051414</td>\n",
       "      <td>778</td>\n",
       "    </tr>\n",
       "    <tr>\n",
       "      <th>8</th>\n",
       "      <td>152</td>\n",
       "      <td>0</td>\n",
       "      <td>0.000000</td>\n",
       "      <td>6</td>\n",
       "    </tr>\n",
       "    <tr>\n",
       "      <th>10</th>\n",
       "      <td>156</td>\n",
       "      <td>0</td>\n",
       "      <td>0.000000</td>\n",
       "      <td>1</td>\n",
       "    </tr>\n",
       "  </tbody>\n",
       "</table>\n",
       "</div>"
      ],
      "text/plain": [
       "    manufacturer_id  loan_default      % age   total\n",
       "9               153             4  33.333333      12\n",
       "1                48          4554  27.253142   16710\n",
       "0                45         12939  22.849928   56626\n",
       "6               120          2132  22.074964    9658\n",
       "2                49          2236  21.878669   10220\n",
       "4                67           523  21.746362    2405\n",
       "3                51          5657  20.794736   27204\n",
       "5                86         22410  20.459401  109534\n",
       "7               145           156  20.051414     778\n",
       "8               152             0   0.000000       6\n",
       "10              156             0   0.000000       1"
      ]
     },
     "execution_count": 29,
     "metadata": {},
     "output_type": "execute_result"
    }
   ],
   "source": [
    "sup_id.sort_values(by='% age', ascending=False)"
   ]
  },
  {
   "cell_type": "markdown",
   "metadata": {
    "heading_collapsed": true
   },
   "source": [
    "#### Current_pincode_ID"
   ]
  },
  {
   "cell_type": "code",
   "execution_count": 30,
   "metadata": {
    "ExecuteTime": {
     "end_time": "2019-04-18T17:24:13.278193Z",
     "start_time": "2019-04-18T17:24:13.185327Z"
    },
    "hidden": true
   },
   "outputs": [],
   "source": [
    "pin = cat_feature_vs_target(df_train, 'Current_pincode_ID', 'loan_default')"
   ]
  },
  {
   "cell_type": "code",
   "execution_count": 31,
   "metadata": {
    "ExecuteTime": {
     "end_time": "2019-04-18T17:24:13.514603Z",
     "start_time": "2019-04-18T17:24:13.279192Z"
    },
    "hidden": true
   },
   "outputs": [
    {
     "data": {
      "text/plain": [
       "<matplotlib.axes._subplots.AxesSubplot at 0x1aa18eb3278>"
      ]
     },
     "execution_count": 31,
     "metadata": {},
     "output_type": "execute_result"
    },
    {
     "data": {
      "image/png": "[encoded data removed]",
      "text/plain": [
       "<Figure size 432x288 with 1 Axes>"
      ]
     },
     "metadata": {
      "needs_background": "light"
     },
     "output_type": "display_data"
    }
   ],
   "source": [
    "pin.sort_values(by='% age', ascending=False)['% age'].hist()"
   ]
  },
  {
   "cell_type": "markdown",
   "metadata": {
    "heading_collapsed": true
   },
   "source": [
    "#### Date.of.Birth"
   ]
  },
  {
   "cell_type": "code",
   "execution_count": 32,
   "metadata": {
    "ExecuteTime": {
     "end_time": "2019-04-18T17:24:13.518673Z",
     "start_time": "2019-04-18T17:24:13.515580Z"
    },
    "hidden": true
   },
   "outputs": [],
   "source": [
    "import datetime as dt"
   ]
  },
  {
   "cell_type": "code",
   "execution_count": 33,
   "metadata": {
    "ExecuteTime": {
     "end_time": "2019-04-18T17:24:13.666513Z",
     "start_time": "2019-04-18T17:24:13.519614Z"
    },
    "hidden": true
   },
   "outputs": [],
   "source": [
    "def calc_age(a, b):\n",
    "    age = (pd.to_datetime(b, format=\"%d-%m-%y\") - pd.to_datetime(a, format=\"%d-%m-%y\"))\n",
    "    age = age.apply(lambda x: x.days/365)\n",
    "    age = age.apply(lambda x: x if x > 0 else x+100)\n",
    "    return age"
   ]
  },
  {
   "cell_type": "code",
   "execution_count": 34,
   "metadata": {
    "ExecuteTime": {
     "end_time": "2019-04-18T17:24:15.851204Z",
     "start_time": "2019-04-18T17:24:13.671501Z"
    },
    "hidden": true
   },
   "outputs": [],
   "source": [
    "df_train['Age'] = calc_age(df_train['Date.of.Birth'], df_train['DisbursalDate'])"
   ]
  },
  {
   "cell_type": "code",
   "execution_count": 35,
   "metadata": {
    "ExecuteTime": {
     "end_time": "2019-04-18T17:24:15.953716Z",
     "start_time": "2019-04-18T17:24:15.851204Z"
    },
    "hidden": true
   },
   "outputs": [
    {
     "data": {
      "text/plain": [
       "<matplotlib.axes._subplots.AxesSubplot at 0x1aa18f0aa90>"
      ]
     },
     "execution_count": 35,
     "metadata": {},
     "output_type": "execute_result"
    },
    {
     "data": {
      "image/png": "[encoded data removed]",
      "text/plain": [
       "<Figure size 432x288 with 1 Axes>"
      ]
     },
     "metadata": {
      "needs_background": "light"
     },
     "output_type": "display_data"
    }
   ],
   "source": [
    "df_train['Age'].hist()"
   ]
  },
  {
   "cell_type": "code",
   "execution_count": 36,
   "metadata": {
    "ExecuteTime": {
     "end_time": "2019-04-18T17:24:15.957707Z",
     "start_time": "2019-04-18T17:24:15.954740Z"
    },
    "hidden": true
   },
   "outputs": [],
   "source": [
    "to_drop.append('Date.of.Birth')"
   ]
  },
  {
   "cell_type": "markdown",
   "metadata": {
    "heading_collapsed": true
   },
   "source": [
    "#### Employment.Type"
   ]
  },
  {
   "cell_type": "code",
   "execution_count": 37,
   "metadata": {
    "ExecuteTime": {
     "end_time": "2019-04-18T17:24:16.083610Z",
     "start_time": "2019-04-18T17:24:15.958704Z"
    },
    "hidden": true
   },
   "outputs": [
    {
     "data": {
      "text/plain": [
       "Self employed    127635\n",
       "Salaried          97858\n",
       "NaN                7661\n",
       "Name: Employment.Type, dtype: int64"
      ]
     },
     "execution_count": 37,
     "metadata": {},
     "output_type": "execute_result"
    }
   ],
   "source": [
    "df_train['Employment.Type'].value_counts(dropna=False)"
   ]
  },
  {
   "cell_type": "code",
   "execution_count": 38,
   "metadata": {
    "ExecuteTime": {
     "end_time": "2019-04-18T17:24:16.164920Z",
     "start_time": "2019-04-18T17:24:16.084630Z"
    },
    "hidden": true
   },
   "outputs": [],
   "source": [
    "#Employment type may be null for students. If they dont have any Bureu History.\n",
    "def fill_na_emp(X):\n",
    "    X.loc[(X['PERFORM_CNS.SCORE.DESCRIPTION']==\"No Bureau History Available\")&\n",
    "                 (X['Employment.Type'].isnull()),'Employment.Type'] = 'Student'\n",
    "    X.loc[(X['PERFORM_CNS.SCORE.DESCRIPTION']!=\"No Bureau History Available\")&\n",
    "                 (X['Employment.Type'].isnull()),'Employment.Type'] = 'Unknown'"
   ]
  },
  {
   "cell_type": "markdown",
   "metadata": {
    "heading_collapsed": true
   },
   "source": [
    "#### DisbursalDate"
   ]
  },
  {
   "cell_type": "code",
   "execution_count": 39,
   "metadata": {
    "ExecuteTime": {
     "end_time": "2019-04-18T17:24:16.254276Z",
     "start_time": "2019-04-18T17:24:16.166919Z"
    },
    "hidden": true
   },
   "outputs": [],
   "source": [
    "# Analysis based on year, month, week of month like first week seconda week etc... \n",
    "# For now drop.\n",
    "to_drop.append('DisbursalDate')"
   ]
  },
  {
   "cell_type": "markdown",
   "metadata": {
    "heading_collapsed": true
   },
   "source": [
    "#### State_ID"
   ]
  },
  {
   "cell_type": "code",
   "execution_count": 40,
   "metadata": {
    "ExecuteTime": {
     "end_time": "2019-04-18T17:24:16.348894Z",
     "start_time": "2019-04-18T17:24:16.254814Z"
    },
    "hidden": true
   },
   "outputs": [],
   "source": [
    "state = cat_feature_vs_target(df_train, 'State_ID', 'loan_default')"
   ]
  },
  {
   "cell_type": "code",
   "execution_count": 41,
   "metadata": {
    "ExecuteTime": {
     "end_time": "2019-04-18T17:24:16.519668Z",
     "start_time": "2019-04-18T17:24:16.349893Z"
    },
    "hidden": true
   },
   "outputs": [
    {
     "data": {
      "text/plain": [
       "<matplotlib.axes._subplots.AxesSubplot at 0x1aa19bc2710>"
      ]
     },
     "execution_count": 41,
     "metadata": {},
     "output_type": "execute_result"
    },
    {
     "data": {
      "image/png": "[encoded data removed]",
      "text/plain": [
       "<Figure size 432x288 with 1 Axes>"
      ]
     },
     "metadata": {
      "needs_background": "light"
     },
     "output_type": "display_data"
    }
   ],
   "source": [
    "state.sort_values(by='% age', ascending=False)['% age'].hist()"
   ]
  },
  {
   "cell_type": "markdown",
   "metadata": {
    "heading_collapsed": true
   },
   "source": [
    "#### Employee_code_ID"
   ]
  },
  {
   "cell_type": "code",
   "execution_count": 42,
   "metadata": {
    "ExecuteTime": {
     "end_time": "2019-04-18T17:24:16.526682Z",
     "start_time": "2019-04-18T17:24:16.520666Z"
    },
    "hidden": true
   },
   "outputs": [
    {
     "data": {
      "text/plain": [
       "3270"
      ]
     },
     "execution_count": 42,
     "metadata": {},
     "output_type": "execute_result"
    }
   ],
   "source": [
    "df_train['Employee_code_ID'].nunique()"
   ]
  },
  {
   "cell_type": "code",
   "execution_count": 43,
   "metadata": {
    "ExecuteTime": {
     "end_time": "2019-04-18T17:24:16.636373Z",
     "start_time": "2019-04-18T17:24:16.527646Z"
    },
    "hidden": true
   },
   "outputs": [],
   "source": [
    "empcode = cat_feature_vs_target(df_train, 'Employee_code_ID', 'loan_default')"
   ]
  },
  {
   "cell_type": "code",
   "execution_count": 44,
   "metadata": {
    "ExecuteTime": {
     "end_time": "2019-04-18T17:24:16.713239Z",
     "start_time": "2019-04-18T17:24:16.637288Z"
    },
    "hidden": true
   },
   "outputs": [
    {
     "data": {
      "text/html": [
       "<div>\n",
       "<style scoped>\n",
       "    .dataframe tbody tr th:only-of-type {\n",
       "        vertical-align: middle;\n",
       "    }\n",
       "\n",
       "    .dataframe tbody tr th {\n",
       "        vertical-align: top;\n",
       "    }\n",
       "\n",
       "    .dataframe thead th {\n",
       "        text-align: right;\n",
       "    }\n",
       "</style>\n",
       "<table border=\"1\" class=\"dataframe\">\n",
       "  <thead>\n",
       "    <tr style=\"text-align: right;\">\n",
       "      <th></th>\n",
       "      <th>Employee_code_ID</th>\n",
       "      <th>loan_default</th>\n",
       "      <th>% age</th>\n",
       "      <th>total</th>\n",
       "    </tr>\n",
       "  </thead>\n",
       "  <tbody>\n",
       "    <tr>\n",
       "      <th>3269</th>\n",
       "      <td>3795</td>\n",
       "      <td>1</td>\n",
       "      <td>100.000000</td>\n",
       "      <td>1</td>\n",
       "    </tr>\n",
       "    <tr>\n",
       "      <th>3245</th>\n",
       "      <td>3771</td>\n",
       "      <td>1</td>\n",
       "      <td>100.000000</td>\n",
       "      <td>1</td>\n",
       "    </tr>\n",
       "    <tr>\n",
       "      <th>280</th>\n",
       "      <td>350</td>\n",
       "      <td>1</td>\n",
       "      <td>100.000000</td>\n",
       "      <td>1</td>\n",
       "    </tr>\n",
       "    <tr>\n",
       "      <th>3159</th>\n",
       "      <td>3685</td>\n",
       "      <td>1</td>\n",
       "      <td>100.000000</td>\n",
       "      <td>1</td>\n",
       "    </tr>\n",
       "    <tr>\n",
       "      <th>2582</th>\n",
       "      <td>3101</td>\n",
       "      <td>1</td>\n",
       "      <td>100.000000</td>\n",
       "      <td>1</td>\n",
       "    </tr>\n",
       "    <tr>\n",
       "      <th>3215</th>\n",
       "      <td>3741</td>\n",
       "      <td>2</td>\n",
       "      <td>100.000000</td>\n",
       "      <td>2</td>\n",
       "    </tr>\n",
       "    <tr>\n",
       "      <th>3220</th>\n",
       "      <td>3746</td>\n",
       "      <td>1</td>\n",
       "      <td>100.000000</td>\n",
       "      <td>1</td>\n",
       "    </tr>\n",
       "    <tr>\n",
       "      <th>2533</th>\n",
       "      <td>3052</td>\n",
       "      <td>1</td>\n",
       "      <td>100.000000</td>\n",
       "      <td>1</td>\n",
       "    </tr>\n",
       "    <tr>\n",
       "      <th>3230</th>\n",
       "      <td>3756</td>\n",
       "      <td>2</td>\n",
       "      <td>100.000000</td>\n",
       "      <td>2</td>\n",
       "    </tr>\n",
       "    <tr>\n",
       "      <th>843</th>\n",
       "      <td>1046</td>\n",
       "      <td>3</td>\n",
       "      <td>100.000000</td>\n",
       "      <td>3</td>\n",
       "    </tr>\n",
       "    <tr>\n",
       "      <th>3240</th>\n",
       "      <td>3766</td>\n",
       "      <td>1</td>\n",
       "      <td>100.000000</td>\n",
       "      <td>1</td>\n",
       "    </tr>\n",
       "    <tr>\n",
       "      <th>1510</th>\n",
       "      <td>1884</td>\n",
       "      <td>1</td>\n",
       "      <td>100.000000</td>\n",
       "      <td>1</td>\n",
       "    </tr>\n",
       "    <tr>\n",
       "      <th>3188</th>\n",
       "      <td>3714</td>\n",
       "      <td>2</td>\n",
       "      <td>100.000000</td>\n",
       "      <td>2</td>\n",
       "    </tr>\n",
       "    <tr>\n",
       "      <th>1980</th>\n",
       "      <td>2463</td>\n",
       "      <td>1</td>\n",
       "      <td>100.000000</td>\n",
       "      <td>1</td>\n",
       "    </tr>\n",
       "    <tr>\n",
       "      <th>3254</th>\n",
       "      <td>3780</td>\n",
       "      <td>1</td>\n",
       "      <td>100.000000</td>\n",
       "      <td>1</td>\n",
       "    </tr>\n",
       "    <tr>\n",
       "      <th>3257</th>\n",
       "      <td>3783</td>\n",
       "      <td>1</td>\n",
       "      <td>100.000000</td>\n",
       "      <td>1</td>\n",
       "    </tr>\n",
       "    <tr>\n",
       "      <th>3258</th>\n",
       "      <td>3784</td>\n",
       "      <td>1</td>\n",
       "      <td>100.000000</td>\n",
       "      <td>1</td>\n",
       "    </tr>\n",
       "    <tr>\n",
       "      <th>3002</th>\n",
       "      <td>3528</td>\n",
       "      <td>1</td>\n",
       "      <td>100.000000</td>\n",
       "      <td>1</td>\n",
       "    </tr>\n",
       "    <tr>\n",
       "      <th>3055</th>\n",
       "      <td>3581</td>\n",
       "      <td>2</td>\n",
       "      <td>100.000000</td>\n",
       "      <td>2</td>\n",
       "    </tr>\n",
       "    <tr>\n",
       "      <th>3267</th>\n",
       "      <td>3793</td>\n",
       "      <td>1</td>\n",
       "      <td>100.000000</td>\n",
       "      <td>1</td>\n",
       "    </tr>\n",
       "    <tr>\n",
       "      <th>82</th>\n",
       "      <td>115</td>\n",
       "      <td>1</td>\n",
       "      <td>100.000000</td>\n",
       "      <td>1</td>\n",
       "    </tr>\n",
       "    <tr>\n",
       "      <th>3204</th>\n",
       "      <td>3730</td>\n",
       "      <td>1</td>\n",
       "      <td>100.000000</td>\n",
       "      <td>1</td>\n",
       "    </tr>\n",
       "    <tr>\n",
       "      <th>907</th>\n",
       "      <td>1123</td>\n",
       "      <td>7</td>\n",
       "      <td>87.500000</td>\n",
       "      <td>8</td>\n",
       "    </tr>\n",
       "    <tr>\n",
       "      <th>3197</th>\n",
       "      <td>3723</td>\n",
       "      <td>5</td>\n",
       "      <td>83.333333</td>\n",
       "      <td>6</td>\n",
       "    </tr>\n",
       "    <tr>\n",
       "      <th>2963</th>\n",
       "      <td>3489</td>\n",
       "      <td>7</td>\n",
       "      <td>77.777778</td>\n",
       "      <td>9</td>\n",
       "    </tr>\n",
       "    <tr>\n",
       "      <th>2149</th>\n",
       "      <td>2643</td>\n",
       "      <td>14</td>\n",
       "      <td>77.777778</td>\n",
       "      <td>18</td>\n",
       "    </tr>\n",
       "    <tr>\n",
       "      <th>943</th>\n",
       "      <td>1168</td>\n",
       "      <td>3</td>\n",
       "      <td>75.000000</td>\n",
       "      <td>4</td>\n",
       "    </tr>\n",
       "    <tr>\n",
       "      <th>2676</th>\n",
       "      <td>3200</td>\n",
       "      <td>9</td>\n",
       "      <td>75.000000</td>\n",
       "      <td>12</td>\n",
       "    </tr>\n",
       "    <tr>\n",
       "      <th>3158</th>\n",
       "      <td>3684</td>\n",
       "      <td>3</td>\n",
       "      <td>75.000000</td>\n",
       "      <td>4</td>\n",
       "    </tr>\n",
       "    <tr>\n",
       "      <th>3178</th>\n",
       "      <td>3704</td>\n",
       "      <td>2</td>\n",
       "      <td>66.666667</td>\n",
       "      <td>3</td>\n",
       "    </tr>\n",
       "    <tr>\n",
       "      <th>2877</th>\n",
       "      <td>3403</td>\n",
       "      <td>2</td>\n",
       "      <td>66.666667</td>\n",
       "      <td>3</td>\n",
       "    </tr>\n",
       "    <tr>\n",
       "      <th>846</th>\n",
       "      <td>1050</td>\n",
       "      <td>2</td>\n",
       "      <td>66.666667</td>\n",
       "      <td>3</td>\n",
       "    </tr>\n",
       "    <tr>\n",
       "      <th>3167</th>\n",
       "      <td>3693</td>\n",
       "      <td>4</td>\n",
       "      <td>66.666667</td>\n",
       "      <td>6</td>\n",
       "    </tr>\n",
       "    <tr>\n",
       "      <th>1496</th>\n",
       "      <td>1861</td>\n",
       "      <td>4</td>\n",
       "      <td>66.666667</td>\n",
       "      <td>6</td>\n",
       "    </tr>\n",
       "    <tr>\n",
       "      <th>2991</th>\n",
       "      <td>3517</td>\n",
       "      <td>2</td>\n",
       "      <td>66.666667</td>\n",
       "      <td>3</td>\n",
       "    </tr>\n",
       "    <tr>\n",
       "      <th>1902</th>\n",
       "      <td>2382</td>\n",
       "      <td>25</td>\n",
       "      <td>62.500000</td>\n",
       "      <td>40</td>\n",
       "    </tr>\n",
       "    <tr>\n",
       "      <th>3072</th>\n",
       "      <td>3598</td>\n",
       "      <td>5</td>\n",
       "      <td>62.500000</td>\n",
       "      <td>8</td>\n",
       "    </tr>\n",
       "    <tr>\n",
       "      <th>2677</th>\n",
       "      <td>3202</td>\n",
       "      <td>10</td>\n",
       "      <td>62.500000</td>\n",
       "      <td>16</td>\n",
       "    </tr>\n",
       "    <tr>\n",
       "      <th>2959</th>\n",
       "      <td>3485</td>\n",
       "      <td>8</td>\n",
       "      <td>61.538462</td>\n",
       "      <td>13</td>\n",
       "    </tr>\n",
       "    <tr>\n",
       "      <th>2022</th>\n",
       "      <td>2510</td>\n",
       "      <td>8</td>\n",
       "      <td>61.538462</td>\n",
       "      <td>13</td>\n",
       "    </tr>\n",
       "    <tr>\n",
       "      <th>2408</th>\n",
       "      <td>2920</td>\n",
       "      <td>42</td>\n",
       "      <td>60.869565</td>\n",
       "      <td>69</td>\n",
       "    </tr>\n",
       "    <tr>\n",
       "      <th>3130</th>\n",
       "      <td>3656</td>\n",
       "      <td>12</td>\n",
       "      <td>60.000000</td>\n",
       "      <td>20</td>\n",
       "    </tr>\n",
       "    <tr>\n",
       "      <th>2749</th>\n",
       "      <td>3275</td>\n",
       "      <td>3</td>\n",
       "      <td>60.000000</td>\n",
       "      <td>5</td>\n",
       "    </tr>\n",
       "    <tr>\n",
       "      <th>2835</th>\n",
       "      <td>3361</td>\n",
       "      <td>24</td>\n",
       "      <td>58.536585</td>\n",
       "      <td>41</td>\n",
       "    </tr>\n",
       "    <tr>\n",
       "      <th>2403</th>\n",
       "      <td>2914</td>\n",
       "      <td>21</td>\n",
       "      <td>58.333333</td>\n",
       "      <td>36</td>\n",
       "    </tr>\n",
       "    <tr>\n",
       "      <th>2709</th>\n",
       "      <td>3234</td>\n",
       "      <td>11</td>\n",
       "      <td>57.894737</td>\n",
       "      <td>19</td>\n",
       "    </tr>\n",
       "    <tr>\n",
       "      <th>2331</th>\n",
       "      <td>2840</td>\n",
       "      <td>4</td>\n",
       "      <td>57.142857</td>\n",
       "      <td>7</td>\n",
       "    </tr>\n",
       "    <tr>\n",
       "      <th>1787</th>\n",
       "      <td>2245</td>\n",
       "      <td>8</td>\n",
       "      <td>57.142857</td>\n",
       "      <td>14</td>\n",
       "    </tr>\n",
       "    <tr>\n",
       "      <th>2245</th>\n",
       "      <td>2749</td>\n",
       "      <td>53</td>\n",
       "      <td>55.789474</td>\n",
       "      <td>95</td>\n",
       "    </tr>\n",
       "    <tr>\n",
       "      <th>1548</th>\n",
       "      <td>1941</td>\n",
       "      <td>20</td>\n",
       "      <td>55.555556</td>\n",
       "      <td>36</td>\n",
       "    </tr>\n",
       "    <tr>\n",
       "      <th>2056</th>\n",
       "      <td>2546</td>\n",
       "      <td>348</td>\n",
       "      <td>55.414013</td>\n",
       "      <td>628</td>\n",
       "    </tr>\n",
       "    <tr>\n",
       "      <th>1659</th>\n",
       "      <td>2089</td>\n",
       "      <td>21</td>\n",
       "      <td>55.263158</td>\n",
       "      <td>38</td>\n",
       "    </tr>\n",
       "    <tr>\n",
       "      <th>2977</th>\n",
       "      <td>3503</td>\n",
       "      <td>12</td>\n",
       "      <td>54.545455</td>\n",
       "      <td>22</td>\n",
       "    </tr>\n",
       "    <tr>\n",
       "      <th>2840</th>\n",
       "      <td>3366</td>\n",
       "      <td>6</td>\n",
       "      <td>54.545455</td>\n",
       "      <td>11</td>\n",
       "    </tr>\n",
       "    <tr>\n",
       "      <th>180</th>\n",
       "      <td>228</td>\n",
       "      <td>20</td>\n",
       "      <td>54.054054</td>\n",
       "      <td>37</td>\n",
       "    </tr>\n",
       "    <tr>\n",
       "      <th>2597</th>\n",
       "      <td>3116</td>\n",
       "      <td>7</td>\n",
       "      <td>53.846154</td>\n",
       "      <td>13</td>\n",
       "    </tr>\n",
       "    <tr>\n",
       "      <th>2080</th>\n",
       "      <td>2571</td>\n",
       "      <td>9</td>\n",
       "      <td>52.941176</td>\n",
       "      <td>17</td>\n",
       "    </tr>\n",
       "    <tr>\n",
       "      <th>2892</th>\n",
       "      <td>3418</td>\n",
       "      <td>9</td>\n",
       "      <td>52.941176</td>\n",
       "      <td>17</td>\n",
       "    </tr>\n",
       "    <tr>\n",
       "      <th>3064</th>\n",
       "      <td>3590</td>\n",
       "      <td>9</td>\n",
       "      <td>52.941176</td>\n",
       "      <td>17</td>\n",
       "    </tr>\n",
       "    <tr>\n",
       "      <th>1861</th>\n",
       "      <td>2326</td>\n",
       "      <td>17</td>\n",
       "      <td>51.515152</td>\n",
       "      <td>33</td>\n",
       "    </tr>\n",
       "    <tr>\n",
       "      <th>2796</th>\n",
       "      <td>3322</td>\n",
       "      <td>49</td>\n",
       "      <td>51.041667</td>\n",
       "      <td>96</td>\n",
       "    </tr>\n",
       "    <tr>\n",
       "      <th>1833</th>\n",
       "      <td>2296</td>\n",
       "      <td>26</td>\n",
       "      <td>50.980392</td>\n",
       "      <td>51</td>\n",
       "    </tr>\n",
       "    <tr>\n",
       "      <th>2221</th>\n",
       "      <td>2721</td>\n",
       "      <td>3</td>\n",
       "      <td>50.000000</td>\n",
       "      <td>6</td>\n",
       "    </tr>\n",
       "    <tr>\n",
       "      <th>3019</th>\n",
       "      <td>3545</td>\n",
       "      <td>3</td>\n",
       "      <td>50.000000</td>\n",
       "      <td>6</td>\n",
       "    </tr>\n",
       "    <tr>\n",
       "      <th>1575</th>\n",
       "      <td>1979</td>\n",
       "      <td>3</td>\n",
       "      <td>50.000000</td>\n",
       "      <td>6</td>\n",
       "    </tr>\n",
       "    <tr>\n",
       "      <th>3035</th>\n",
       "      <td>3561</td>\n",
       "      <td>4</td>\n",
       "      <td>50.000000</td>\n",
       "      <td>8</td>\n",
       "    </tr>\n",
       "    <tr>\n",
       "      <th>2609</th>\n",
       "      <td>3129</td>\n",
       "      <td>3</td>\n",
       "      <td>50.000000</td>\n",
       "      <td>6</td>\n",
       "    </tr>\n",
       "    <tr>\n",
       "      <th>584</th>\n",
       "      <td>728</td>\n",
       "      <td>1</td>\n",
       "      <td>50.000000</td>\n",
       "      <td>2</td>\n",
       "    </tr>\n",
       "    <tr>\n",
       "      <th>3224</th>\n",
       "      <td>3750</td>\n",
       "      <td>1</td>\n",
       "      <td>50.000000</td>\n",
       "      <td>2</td>\n",
       "    </tr>\n",
       "    <tr>\n",
       "      <th>3212</th>\n",
       "      <td>3738</td>\n",
       "      <td>2</td>\n",
       "      <td>50.000000</td>\n",
       "      <td>4</td>\n",
       "    </tr>\n",
       "    <tr>\n",
       "      <th>1480</th>\n",
       "      <td>1840</td>\n",
       "      <td>1</td>\n",
       "      <td>50.000000</td>\n",
       "      <td>2</td>\n",
       "    </tr>\n",
       "    <tr>\n",
       "      <th>2323</th>\n",
       "      <td>2830</td>\n",
       "      <td>1</td>\n",
       "      <td>50.000000</td>\n",
       "      <td>2</td>\n",
       "    </tr>\n",
       "    <tr>\n",
       "      <th>1847</th>\n",
       "      <td>2310</td>\n",
       "      <td>2</td>\n",
       "      <td>50.000000</td>\n",
       "      <td>4</td>\n",
       "    </tr>\n",
       "    <tr>\n",
       "      <th>3186</th>\n",
       "      <td>3712</td>\n",
       "      <td>1</td>\n",
       "      <td>50.000000</td>\n",
       "      <td>2</td>\n",
       "    </tr>\n",
       "    <tr>\n",
       "      <th>3140</th>\n",
       "      <td>3666</td>\n",
       "      <td>1</td>\n",
       "      <td>50.000000</td>\n",
       "      <td>2</td>\n",
       "    </tr>\n",
       "    <tr>\n",
       "      <th>1550</th>\n",
       "      <td>1943</td>\n",
       "      <td>4</td>\n",
       "      <td>50.000000</td>\n",
       "      <td>8</td>\n",
       "    </tr>\n",
       "    <tr>\n",
       "      <th>3191</th>\n",
       "      <td>3717</td>\n",
       "      <td>1</td>\n",
       "      <td>50.000000</td>\n",
       "      <td>2</td>\n",
       "    </tr>\n",
       "    <tr>\n",
       "      <th>3171</th>\n",
       "      <td>3697</td>\n",
       "      <td>2</td>\n",
       "      <td>50.000000</td>\n",
       "      <td>4</td>\n",
       "    </tr>\n",
       "    <tr>\n",
       "      <th>2573</th>\n",
       "      <td>3092</td>\n",
       "      <td>4</td>\n",
       "      <td>50.000000</td>\n",
       "      <td>8</td>\n",
       "    </tr>\n",
       "    <tr>\n",
       "      <th>3255</th>\n",
       "      <td>3781</td>\n",
       "      <td>1</td>\n",
       "      <td>50.000000</td>\n",
       "      <td>2</td>\n",
       "    </tr>\n",
       "    <tr>\n",
       "      <th>1483</th>\n",
       "      <td>1843</td>\n",
       "      <td>3</td>\n",
       "      <td>50.000000</td>\n",
       "      <td>6</td>\n",
       "    </tr>\n",
       "    <tr>\n",
       "      <th>1306</th>\n",
       "      <td>1619</td>\n",
       "      <td>3</td>\n",
       "      <td>50.000000</td>\n",
       "      <td>6</td>\n",
       "    </tr>\n",
       "    <tr>\n",
       "      <th>3111</th>\n",
       "      <td>3637</td>\n",
       "      <td>1</td>\n",
       "      <td>50.000000</td>\n",
       "      <td>2</td>\n",
       "    </tr>\n",
       "    <tr>\n",
       "      <th>3123</th>\n",
       "      <td>3649</td>\n",
       "      <td>1</td>\n",
       "      <td>50.000000</td>\n",
       "      <td>2</td>\n",
       "    </tr>\n",
       "    <tr>\n",
       "      <th>2702</th>\n",
       "      <td>3227</td>\n",
       "      <td>2</td>\n",
       "      <td>50.000000</td>\n",
       "      <td>4</td>\n",
       "    </tr>\n",
       "    <tr>\n",
       "      <th>2358</th>\n",
       "      <td>2867</td>\n",
       "      <td>40</td>\n",
       "      <td>50.000000</td>\n",
       "      <td>80</td>\n",
       "    </tr>\n",
       "    <tr>\n",
       "      <th>2761</th>\n",
       "      <td>3287</td>\n",
       "      <td>37</td>\n",
       "      <td>50.000000</td>\n",
       "      <td>74</td>\n",
       "    </tr>\n",
       "    <tr>\n",
       "      <th>3090</th>\n",
       "      <td>3616</td>\n",
       "      <td>2</td>\n",
       "      <td>50.000000</td>\n",
       "      <td>4</td>\n",
       "    </tr>\n",
       "    <tr>\n",
       "      <th>894</th>\n",
       "      <td>1108</td>\n",
       "      <td>2</td>\n",
       "      <td>50.000000</td>\n",
       "      <td>4</td>\n",
       "    </tr>\n",
       "    <tr>\n",
       "      <th>3187</th>\n",
       "      <td>3713</td>\n",
       "      <td>2</td>\n",
       "      <td>50.000000</td>\n",
       "      <td>4</td>\n",
       "    </tr>\n",
       "    <tr>\n",
       "      <th>3063</th>\n",
       "      <td>3589</td>\n",
       "      <td>2</td>\n",
       "      <td>50.000000</td>\n",
       "      <td>4</td>\n",
       "    </tr>\n",
       "    <tr>\n",
       "      <th>1610</th>\n",
       "      <td>2028</td>\n",
       "      <td>3</td>\n",
       "      <td>50.000000</td>\n",
       "      <td>6</td>\n",
       "    </tr>\n",
       "    <tr>\n",
       "      <th>2343</th>\n",
       "      <td>2852</td>\n",
       "      <td>1</td>\n",
       "      <td>50.000000</td>\n",
       "      <td>2</td>\n",
       "    </tr>\n",
       "    <tr>\n",
       "      <th>2205</th>\n",
       "      <td>2702</td>\n",
       "      <td>1</td>\n",
       "      <td>50.000000</td>\n",
       "      <td>2</td>\n",
       "    </tr>\n",
       "    <tr>\n",
       "      <th>1735</th>\n",
       "      <td>2181</td>\n",
       "      <td>9</td>\n",
       "      <td>47.368421</td>\n",
       "      <td>19</td>\n",
       "    </tr>\n",
       "    <tr>\n",
       "      <th>2519</th>\n",
       "      <td>3038</td>\n",
       "      <td>8</td>\n",
       "      <td>47.058824</td>\n",
       "      <td>17</td>\n",
       "    </tr>\n",
       "    <tr>\n",
       "      <th>487</th>\n",
       "      <td>610</td>\n",
       "      <td>84</td>\n",
       "      <td>46.927374</td>\n",
       "      <td>179</td>\n",
       "    </tr>\n",
       "    <tr>\n",
       "      <th>2919</th>\n",
       "      <td>3445</td>\n",
       "      <td>34</td>\n",
       "      <td>46.575342</td>\n",
       "      <td>73</td>\n",
       "    </tr>\n",
       "    <tr>\n",
       "      <th>2625</th>\n",
       "      <td>3145</td>\n",
       "      <td>18</td>\n",
       "      <td>46.153846</td>\n",
       "      <td>39</td>\n",
       "    </tr>\n",
       "    <tr>\n",
       "      <th>3142</th>\n",
       "      <td>3668</td>\n",
       "      <td>6</td>\n",
       "      <td>46.153846</td>\n",
       "      <td>13</td>\n",
       "    </tr>\n",
       "  </tbody>\n",
       "</table>\n",
       "</div>"
      ],
      "text/plain": [
       "      Employee_code_ID  loan_default       % age  total\n",
       "3269              3795             1  100.000000      1\n",
       "3245              3771             1  100.000000      1\n",
       "280                350             1  100.000000      1\n",
       "3159              3685             1  100.000000      1\n",
       "2582              3101             1  100.000000      1\n",
       "3215              3741             2  100.000000      2\n",
       "3220              3746             1  100.000000      1\n",
       "2533              3052             1  100.000000      1\n",
       "3230              3756             2  100.000000      2\n",
       "843               1046             3  100.000000      3\n",
       "3240              3766             1  100.000000      1\n",
       "1510              1884             1  100.000000      1\n",
       "3188              3714             2  100.000000      2\n",
       "1980              2463             1  100.000000      1\n",
       "3254              3780             1  100.000000      1\n",
       "3257              3783             1  100.000000      1\n",
       "3258              3784             1  100.000000      1\n",
       "3002              3528             1  100.000000      1\n",
       "3055              3581             2  100.000000      2\n",
       "3267              3793             1  100.000000      1\n",
       "82                 115             1  100.000000      1\n",
       "3204              3730             1  100.000000      1\n",
       "907               1123             7   87.500000      8\n",
       "3197              3723             5   83.333333      6\n",
       "2963              3489             7   77.777778      9\n",
       "2149              2643            14   77.777778     18\n",
       "943               1168             3   75.000000      4\n",
       "2676              3200             9   75.000000     12\n",
       "3158              3684             3   75.000000      4\n",
       "3178              3704             2   66.666667      3\n",
       "2877              3403             2   66.666667      3\n",
       "846               1050             2   66.666667      3\n",
       "3167              3693             4   66.666667      6\n",
       "1496              1861             4   66.666667      6\n",
       "2991              3517             2   66.666667      3\n",
       "1902              2382            25   62.500000     40\n",
       "3072              3598             5   62.500000      8\n",
       "2677              3202            10   62.500000     16\n",
       "2959              3485             8   61.538462     13\n",
       "2022              2510             8   61.538462     13\n",
       "2408              2920            42   60.869565     69\n",
       "3130              3656            12   60.000000     20\n",
       "2749              3275             3   60.000000      5\n",
       "2835              3361            24   58.536585     41\n",
       "2403              2914            21   58.333333     36\n",
       "2709              3234            11   57.894737     19\n",
       "2331              2840             4   57.142857      7\n",
       "1787              2245             8   57.142857     14\n",
       "2245              2749            53   55.789474     95\n",
       "1548              1941            20   55.555556     36\n",
       "2056              2546           348   55.414013    628\n",
       "1659              2089            21   55.263158     38\n",
       "2977              3503            12   54.545455     22\n",
       "2840              3366             6   54.545455     11\n",
       "180                228            20   54.054054     37\n",
       "2597              3116             7   53.846154     13\n",
       "2080              2571             9   52.941176     17\n",
       "2892              3418             9   52.941176     17\n",
       "3064              3590             9   52.941176     17\n",
       "1861              2326            17   51.515152     33\n",
       "2796              3322            49   51.041667     96\n",
       "1833              2296            26   50.980392     51\n",
       "2221              2721             3   50.000000      6\n",
       "3019              3545             3   50.000000      6\n",
       "1575              1979             3   50.000000      6\n",
       "3035              3561             4   50.000000      8\n",
       "2609              3129             3   50.000000      6\n",
       "584                728             1   50.000000      2\n",
       "3224              3750             1   50.000000      2\n",
       "3212              3738             2   50.000000      4\n",
       "1480              1840             1   50.000000      2\n",
       "2323              2830             1   50.000000      2\n",
       "1847              2310             2   50.000000      4\n",
       "3186              3712             1   50.000000      2\n",
       "3140              3666             1   50.000000      2\n",
       "1550              1943             4   50.000000      8\n",
       "3191              3717             1   50.000000      2\n",
       "3171              3697             2   50.000000      4\n",
       "2573              3092             4   50.000000      8\n",
       "3255              3781             1   50.000000      2\n",
       "1483              1843             3   50.000000      6\n",
       "1306              1619             3   50.000000      6\n",
       "3111              3637             1   50.000000      2\n",
       "3123              3649             1   50.000000      2\n",
       "2702              3227             2   50.000000      4\n",
       "2358              2867            40   50.000000     80\n",
       "2761              3287            37   50.000000     74\n",
       "3090              3616             2   50.000000      4\n",
       "894               1108             2   50.000000      4\n",
       "3187              3713             2   50.000000      4\n",
       "3063              3589             2   50.000000      4\n",
       "1610              2028             3   50.000000      6\n",
       "2343              2852             1   50.000000      2\n",
       "2205              2702             1   50.000000      2\n",
       "1735              2181             9   47.368421     19\n",
       "2519              3038             8   47.058824     17\n",
       "487                610            84   46.927374    179\n",
       "2919              3445            34   46.575342     73\n",
       "2625              3145            18   46.153846     39\n",
       "3142              3668             6   46.153846     13"
      ]
     },
     "execution_count": 44,
     "metadata": {},
     "output_type": "execute_result"
    }
   ],
   "source": [
    "empcode.sort_values(by='% age', ascending=False).head(100)"
   ]
  },
  {
   "cell_type": "code",
   "execution_count": 45,
   "metadata": {
    "ExecuteTime": {
     "end_time": "2019-04-18T17:24:16.858241Z",
     "start_time": "2019-04-18T17:24:16.714214Z"
    },
    "hidden": true
   },
   "outputs": [],
   "source": [
    "# Combination of employee code id, branch id, pincode id "
   ]
  },
  {
   "cell_type": "code",
   "execution_count": 46,
   "metadata": {
    "ExecuteTime": {
     "end_time": "2019-04-18T17:24:17.434814Z",
     "start_time": "2019-04-18T17:24:16.860230Z"
    },
    "hidden": true
   },
   "outputs": [
    {
     "data": {
      "text/plain": [
       "<matplotlib.axes._subplots.AxesSubplot at 0x1aa18fbfa58>"
      ]
     },
     "execution_count": 46,
     "metadata": {},
     "output_type": "execute_result"
    },
    {
     "data": {
      "image/png": "[encoded data removed]",
      "text/plain": [
       "<Figure size 1080x648 with 1 Axes>"
      ]
     },
     "metadata": {
      "needs_background": "light"
     },
     "output_type": "display_data"
    }
   ],
   "source": [
    "plt.figure(figsize=(15,9))\n",
    "sns.scatterplot(data=empcode, x= '% age', y='Employee_code_ID',alpha=0.5, size='total')"
   ]
  },
  {
   "cell_type": "markdown",
   "metadata": {
    "heading_collapsed": true
   },
   "source": [
    "#### MobileNo_Avl_Flag"
   ]
  },
  {
   "cell_type": "code",
   "execution_count": 47,
   "metadata": {
    "ExecuteTime": {
     "end_time": "2019-04-18T17:24:17.474709Z",
     "start_time": "2019-04-18T17:24:17.437805Z"
    },
    "hidden": true
   },
   "outputs": [],
   "source": [
    "mobile = cat_feature_vs_target(df_train, 'MobileNo_Avl_Flag', 'loan_default')"
   ]
  },
  {
   "cell_type": "code",
   "execution_count": 48,
   "metadata": {
    "ExecuteTime": {
     "end_time": "2019-04-18T17:24:17.530863Z",
     "start_time": "2019-04-18T17:24:17.476705Z"
    },
    "hidden": true
   },
   "outputs": [
    {
     "data": {
      "text/html": [
       "<div>\n",
       "<style scoped>\n",
       "    .dataframe tbody tr th:only-of-type {\n",
       "        vertical-align: middle;\n",
       "    }\n",
       "\n",
       "    .dataframe tbody tr th {\n",
       "        vertical-align: top;\n",
       "    }\n",
       "\n",
       "    .dataframe thead th {\n",
       "        text-align: right;\n",
       "    }\n",
       "</style>\n",
       "<table border=\"1\" class=\"dataframe\">\n",
       "  <thead>\n",
       "    <tr style=\"text-align: right;\">\n",
       "      <th></th>\n",
       "      <th>MobileNo_Avl_Flag</th>\n",
       "      <th>loan_default</th>\n",
       "      <th>% age</th>\n",
       "      <th>total</th>\n",
       "    </tr>\n",
       "  </thead>\n",
       "  <tbody>\n",
       "    <tr>\n",
       "      <th>0</th>\n",
       "      <td>1</td>\n",
       "      <td>50611</td>\n",
       "      <td>21.707112</td>\n",
       "      <td>233154</td>\n",
       "    </tr>\n",
       "  </tbody>\n",
       "</table>\n",
       "</div>"
      ],
      "text/plain": [
       "   MobileNo_Avl_Flag  loan_default      % age   total\n",
       "0                  1         50611  21.707112  233154"
      ]
     },
     "execution_count": 48,
     "metadata": {},
     "output_type": "execute_result"
    }
   ],
   "source": [
    "mobile.sort_values(by='% age', ascending=False)"
   ]
  },
  {
   "cell_type": "code",
   "execution_count": 49,
   "metadata": {
    "ExecuteTime": {
     "end_time": "2019-04-18T17:24:17.665018Z",
     "start_time": "2019-04-18T17:24:17.531834Z"
    },
    "hidden": true
   },
   "outputs": [
    {
     "data": {
      "text/plain": [
       "(233154, 42)"
      ]
     },
     "execution_count": 49,
     "metadata": {},
     "output_type": "execute_result"
    }
   ],
   "source": [
    "df_train.shape"
   ]
  },
  {
   "cell_type": "code",
   "execution_count": 50,
   "metadata": {
    "ExecuteTime": {
     "end_time": "2019-04-18T17:24:17.782809Z",
     "start_time": "2019-04-18T17:24:17.665998Z"
    },
    "hidden": true
   },
   "outputs": [],
   "source": [
    "to_drop.append('MobileNo_Avl_Fla')"
   ]
  },
  {
   "cell_type": "markdown",
   "metadata": {
    "heading_collapsed": true
   },
   "source": [
    "#### \tAadhar_flag"
   ]
  },
  {
   "cell_type": "code",
   "execution_count": 51,
   "metadata": {
    "ExecuteTime": {
     "end_time": "2019-04-18T17:24:18.062021Z",
     "start_time": "2019-04-18T17:24:17.783809Z"
    },
    "hidden": true
   },
   "outputs": [],
   "source": [
    "adh = cat_feature_vs_target(df_train, 'Aadhar_flag', 'loan_default')"
   ]
  },
  {
   "cell_type": "code",
   "execution_count": 52,
   "metadata": {
    "ExecuteTime": {
     "end_time": "2019-04-18T17:24:18.133449Z",
     "start_time": "2019-04-18T17:24:18.062949Z"
    },
    "hidden": true
   },
   "outputs": [
    {
     "data": {
      "text/html": [
       "<div>\n",
       "<style scoped>\n",
       "    .dataframe tbody tr th:only-of-type {\n",
       "        vertical-align: middle;\n",
       "    }\n",
       "\n",
       "    .dataframe tbody tr th {\n",
       "        vertical-align: top;\n",
       "    }\n",
       "\n",
       "    .dataframe thead th {\n",
       "        text-align: right;\n",
       "    }\n",
       "</style>\n",
       "<table border=\"1\" class=\"dataframe\">\n",
       "  <thead>\n",
       "    <tr style=\"text-align: right;\">\n",
       "      <th></th>\n",
       "      <th>Aadhar_flag</th>\n",
       "      <th>loan_default</th>\n",
       "      <th>% age</th>\n",
       "      <th>total</th>\n",
       "    </tr>\n",
       "  </thead>\n",
       "  <tbody>\n",
       "    <tr>\n",
       "      <th>0</th>\n",
       "      <td>0</td>\n",
       "      <td>9546</td>\n",
       "      <td>25.640612</td>\n",
       "      <td>37230</td>\n",
       "    </tr>\n",
       "    <tr>\n",
       "      <th>1</th>\n",
       "      <td>1</td>\n",
       "      <td>41065</td>\n",
       "      <td>20.959658</td>\n",
       "      <td>195924</td>\n",
       "    </tr>\n",
       "  </tbody>\n",
       "</table>\n",
       "</div>"
      ],
      "text/plain": [
       "   Aadhar_flag  loan_default      % age   total\n",
       "0            0          9546  25.640612   37230\n",
       "1            1         41065  20.959658  195924"
      ]
     },
     "execution_count": 52,
     "metadata": {},
     "output_type": "execute_result"
    }
   ],
   "source": [
    "adh.sort_values(by='% age', ascending=False)"
   ]
  },
  {
   "cell_type": "markdown",
   "metadata": {
    "heading_collapsed": true
   },
   "source": [
    "#### PAN_flag"
   ]
  },
  {
   "cell_type": "code",
   "execution_count": 53,
   "metadata": {
    "ExecuteTime": {
     "end_time": "2019-04-18T17:24:18.248859Z",
     "start_time": "2019-04-18T17:24:18.134424Z"
    },
    "hidden": true
   },
   "outputs": [],
   "source": [
    "pan= cat_feature_vs_target(df_train, 'PAN_flag', 'loan_default')"
   ]
  },
  {
   "cell_type": "code",
   "execution_count": 54,
   "metadata": {
    "ExecuteTime": {
     "end_time": "2019-04-18T17:24:18.392602Z",
     "start_time": "2019-04-18T17:24:18.249760Z"
    },
    "hidden": true
   },
   "outputs": [
    {
     "data": {
      "text/html": [
       "<div>\n",
       "<style scoped>\n",
       "    .dataframe tbody tr th:only-of-type {\n",
       "        vertical-align: middle;\n",
       "    }\n",
       "\n",
       "    .dataframe tbody tr th {\n",
       "        vertical-align: top;\n",
       "    }\n",
       "\n",
       "    .dataframe thead th {\n",
       "        text-align: right;\n",
       "    }\n",
       "</style>\n",
       "<table border=\"1\" class=\"dataframe\">\n",
       "  <thead>\n",
       "    <tr style=\"text-align: right;\">\n",
       "      <th></th>\n",
       "      <th>PAN_flag</th>\n",
       "      <th>loan_default</th>\n",
       "      <th>% age</th>\n",
       "      <th>total</th>\n",
       "    </tr>\n",
       "  </thead>\n",
       "  <tbody>\n",
       "    <tr>\n",
       "      <th>1</th>\n",
       "      <td>1</td>\n",
       "      <td>3877</td>\n",
       "      <td>22.002157</td>\n",
       "      <td>17621</td>\n",
       "    </tr>\n",
       "    <tr>\n",
       "      <th>0</th>\n",
       "      <td>0</td>\n",
       "      <td>46734</td>\n",
       "      <td>21.682991</td>\n",
       "      <td>215533</td>\n",
       "    </tr>\n",
       "  </tbody>\n",
       "</table>\n",
       "</div>"
      ],
      "text/plain": [
       "   PAN_flag  loan_default      % age   total\n",
       "1         1          3877  22.002157   17621\n",
       "0         0         46734  21.682991  215533"
      ]
     },
     "execution_count": 54,
     "metadata": {},
     "output_type": "execute_result"
    }
   ],
   "source": [
    "pan.sort_values(by='% age', ascending=False)"
   ]
  },
  {
   "cell_type": "markdown",
   "metadata": {
    "heading_collapsed": true
   },
   "source": [
    "#### VoterID_flag"
   ]
  },
  {
   "cell_type": "code",
   "execution_count": 55,
   "metadata": {
    "ExecuteTime": {
     "end_time": "2019-04-18T17:24:18.492599Z",
     "start_time": "2019-04-18T17:24:18.393619Z"
    },
    "hidden": true
   },
   "outputs": [],
   "source": [
    "voter = cat_feature_vs_target(df_train, 'VoterID_flag', 'loan_default')"
   ]
  },
  {
   "cell_type": "code",
   "execution_count": 56,
   "metadata": {
    "ExecuteTime": {
     "end_time": "2019-04-18T17:24:18.575311Z",
     "start_time": "2019-04-18T17:24:18.493501Z"
    },
    "hidden": true
   },
   "outputs": [
    {
     "data": {
      "text/html": [
       "<div>\n",
       "<style scoped>\n",
       "    .dataframe tbody tr th:only-of-type {\n",
       "        vertical-align: middle;\n",
       "    }\n",
       "\n",
       "    .dataframe tbody tr th {\n",
       "        vertical-align: top;\n",
       "    }\n",
       "\n",
       "    .dataframe thead th {\n",
       "        text-align: right;\n",
       "    }\n",
       "</style>\n",
       "<table border=\"1\" class=\"dataframe\">\n",
       "  <thead>\n",
       "    <tr style=\"text-align: right;\">\n",
       "      <th></th>\n",
       "      <th>VoterID_flag</th>\n",
       "      <th>loan_default</th>\n",
       "      <th>% age</th>\n",
       "      <th>total</th>\n",
       "    </tr>\n",
       "  </thead>\n",
       "  <tbody>\n",
       "    <tr>\n",
       "      <th>1</th>\n",
       "      <td>1</td>\n",
       "      <td>8816</td>\n",
       "      <td>26.087471</td>\n",
       "      <td>33794</td>\n",
       "    </tr>\n",
       "    <tr>\n",
       "      <th>0</th>\n",
       "      <td>0</td>\n",
       "      <td>41795</td>\n",
       "      <td>20.964587</td>\n",
       "      <td>199360</td>\n",
       "    </tr>\n",
       "  </tbody>\n",
       "</table>\n",
       "</div>"
      ],
      "text/plain": [
       "   VoterID_flag  loan_default      % age   total\n",
       "1             1          8816  26.087471   33794\n",
       "0             0         41795  20.964587  199360"
      ]
     },
     "execution_count": 56,
     "metadata": {},
     "output_type": "execute_result"
    }
   ],
   "source": [
    "voter.sort_values(by='% age', ascending=False)"
   ]
  },
  {
   "cell_type": "markdown",
   "metadata": {
    "heading_collapsed": true
   },
   "source": [
    "#### Driving_flag"
   ]
  },
  {
   "cell_type": "code",
   "execution_count": 57,
   "metadata": {
    "ExecuteTime": {
     "end_time": "2019-04-18T17:24:18.691192Z",
     "start_time": "2019-04-18T17:24:18.576282Z"
    },
    "hidden": true
   },
   "outputs": [],
   "source": [
    "drive = cat_feature_vs_target(df_train, 'Driving_flag', 'loan_default')"
   ]
  },
  {
   "cell_type": "code",
   "execution_count": 58,
   "metadata": {
    "ExecuteTime": {
     "end_time": "2019-04-18T17:24:18.772245Z",
     "start_time": "2019-04-18T17:24:18.692095Z"
    },
    "hidden": true
   },
   "outputs": [
    {
     "data": {
      "text/html": [
       "<div>\n",
       "<style scoped>\n",
       "    .dataframe tbody tr th:only-of-type {\n",
       "        vertical-align: middle;\n",
       "    }\n",
       "\n",
       "    .dataframe tbody tr th {\n",
       "        vertical-align: top;\n",
       "    }\n",
       "\n",
       "    .dataframe thead th {\n",
       "        text-align: right;\n",
       "    }\n",
       "</style>\n",
       "<table border=\"1\" class=\"dataframe\">\n",
       "  <thead>\n",
       "    <tr style=\"text-align: right;\">\n",
       "      <th></th>\n",
       "      <th>Driving_flag</th>\n",
       "      <th>loan_default</th>\n",
       "      <th>% age</th>\n",
       "      <th>total</th>\n",
       "    </tr>\n",
       "  </thead>\n",
       "  <tbody>\n",
       "    <tr>\n",
       "      <th>0</th>\n",
       "      <td>0</td>\n",
       "      <td>49519</td>\n",
       "      <td>21.744132</td>\n",
       "      <td>227735</td>\n",
       "    </tr>\n",
       "    <tr>\n",
       "      <th>1</th>\n",
       "      <td>1</td>\n",
       "      <td>1092</td>\n",
       "      <td>20.151319</td>\n",
       "      <td>5419</td>\n",
       "    </tr>\n",
       "  </tbody>\n",
       "</table>\n",
       "</div>"
      ],
      "text/plain": [
       "   Driving_flag  loan_default      % age   total\n",
       "0             0         49519  21.744132  227735\n",
       "1             1          1092  20.151319    5419"
      ]
     },
     "execution_count": 58,
     "metadata": {},
     "output_type": "execute_result"
    }
   ],
   "source": [
    "drive.sort_values(by='% age', ascending=False)"
   ]
  },
  {
   "cell_type": "markdown",
   "metadata": {
    "heading_collapsed": true
   },
   "source": [
    "#### Passport_flag"
   ]
  },
  {
   "cell_type": "code",
   "execution_count": 59,
   "metadata": {
    "ExecuteTime": {
     "end_time": "2019-04-18T17:24:18.869484Z",
     "start_time": "2019-04-18T17:24:18.773243Z"
    },
    "hidden": true
   },
   "outputs": [],
   "source": [
    "passprt = cat_feature_vs_target(df_train, 'Passport_flag', 'loan_default')"
   ]
  },
  {
   "cell_type": "code",
   "execution_count": 60,
   "metadata": {
    "ExecuteTime": {
     "end_time": "2019-04-18T17:24:18.933281Z",
     "start_time": "2019-04-18T17:24:18.870416Z"
    },
    "hidden": true
   },
   "outputs": [
    {
     "data": {
      "text/html": [
       "<div>\n",
       "<style scoped>\n",
       "    .dataframe tbody tr th:only-of-type {\n",
       "        vertical-align: middle;\n",
       "    }\n",
       "\n",
       "    .dataframe tbody tr th {\n",
       "        vertical-align: top;\n",
       "    }\n",
       "\n",
       "    .dataframe thead th {\n",
       "        text-align: right;\n",
       "    }\n",
       "</style>\n",
       "<table border=\"1\" class=\"dataframe\">\n",
       "  <thead>\n",
       "    <tr style=\"text-align: right;\">\n",
       "      <th></th>\n",
       "      <th>Passport_flag</th>\n",
       "      <th>loan_default</th>\n",
       "      <th>% age</th>\n",
       "      <th>total</th>\n",
       "    </tr>\n",
       "  </thead>\n",
       "  <tbody>\n",
       "    <tr>\n",
       "      <th>0</th>\n",
       "      <td>0</td>\n",
       "      <td>50537</td>\n",
       "      <td>21.721583</td>\n",
       "      <td>232658</td>\n",
       "    </tr>\n",
       "    <tr>\n",
       "      <th>1</th>\n",
       "      <td>1</td>\n",
       "      <td>74</td>\n",
       "      <td>14.919355</td>\n",
       "      <td>496</td>\n",
       "    </tr>\n",
       "  </tbody>\n",
       "</table>\n",
       "</div>"
      ],
      "text/plain": [
       "   Passport_flag  loan_default      % age   total\n",
       "0              0         50537  21.721583  232658\n",
       "1              1            74  14.919355     496"
      ]
     },
     "execution_count": 60,
     "metadata": {},
     "output_type": "execute_result"
    }
   ],
   "source": [
    "passprt.sort_values(by='% age', ascending=False)"
   ]
  },
  {
   "cell_type": "markdown",
   "metadata": {
    "heading_collapsed": true
   },
   "source": [
    "#### PERFORM_CNS.SCORE"
   ]
  },
  {
   "cell_type": "code",
   "execution_count": 61,
   "metadata": {
    "ExecuteTime": {
     "end_time": "2019-04-18T17:24:19.182319Z",
     "start_time": "2019-04-18T17:24:18.934279Z"
    },
    "hidden": true
   },
   "outputs": [
    {
     "data": {
      "text/plain": [
       "<matplotlib.axes._subplots.AxesSubplot at 0x1aa1908eda0>"
      ]
     },
     "execution_count": 61,
     "metadata": {},
     "output_type": "execute_result"
    },
    {
     "data": {
      "image/png": "[encoded data removed]",
      "text/plain": [
       "<Figure size 432x288 with 1 Axes>"
      ]
     },
     "metadata": {
      "needs_background": "light"
     },
     "output_type": "display_data"
    }
   ],
   "source": [
    "sns.distplot(df_train['PERFORM_CNS.SCORE'])"
   ]
  },
  {
   "cell_type": "code",
   "execution_count": 62,
   "metadata": {
    "ExecuteTime": {
     "end_time": "2019-04-18T17:24:19.201281Z",
     "start_time": "2019-04-18T17:24:19.183297Z"
    },
    "hidden": true
   },
   "outputs": [],
   "source": [
    "cns_score = cat_feature_vs_target(df_train, 'PERFORM_CNS.SCORE', 'loan_default')"
   ]
  },
  {
   "cell_type": "code",
   "execution_count": 63,
   "metadata": {
    "ExecuteTime": {
     "end_time": "2019-04-18T17:24:19.273830Z",
     "start_time": "2019-04-18T17:24:19.202245Z"
    },
    "hidden": true
   },
   "outputs": [
    {
     "data": {
      "text/html": [
       "<div>\n",
       "<style scoped>\n",
       "    .dataframe tbody tr th:only-of-type {\n",
       "        vertical-align: middle;\n",
       "    }\n",
       "\n",
       "    .dataframe tbody tr th {\n",
       "        vertical-align: top;\n",
       "    }\n",
       "\n",
       "    .dataframe thead th {\n",
       "        text-align: right;\n",
       "    }\n",
       "</style>\n",
       "<table border=\"1\" class=\"dataframe\">\n",
       "  <thead>\n",
       "    <tr style=\"text-align: right;\">\n",
       "      <th></th>\n",
       "      <th>PERFORM_CNS.SCORE</th>\n",
       "      <th>loan_default</th>\n",
       "      <th>% age</th>\n",
       "      <th>total</th>\n",
       "    </tr>\n",
       "  </thead>\n",
       "  <tbody>\n",
       "    <tr>\n",
       "      <th>0</th>\n",
       "      <td>0</td>\n",
       "      <td>27052</td>\n",
       "      <td>23.131253</td>\n",
       "      <td>116950</td>\n",
       "    </tr>\n",
       "    <tr>\n",
       "      <th>1</th>\n",
       "      <td>11</td>\n",
       "      <td>0</td>\n",
       "      <td>0.000000</td>\n",
       "      <td>3</td>\n",
       "    </tr>\n",
       "    <tr>\n",
       "      <th>2</th>\n",
       "      <td>14</td>\n",
       "      <td>208</td>\n",
       "      <td>21.311475</td>\n",
       "      <td>976</td>\n",
       "    </tr>\n",
       "    <tr>\n",
       "      <th>3</th>\n",
       "      <td>15</td>\n",
       "      <td>963</td>\n",
       "      <td>25.577689</td>\n",
       "      <td>3765</td>\n",
       "    </tr>\n",
       "    <tr>\n",
       "      <th>4</th>\n",
       "      <td>16</td>\n",
       "      <td>530</td>\n",
       "      <td>18.370884</td>\n",
       "      <td>2885</td>\n",
       "    </tr>\n",
       "  </tbody>\n",
       "</table>\n",
       "</div>"
      ],
      "text/plain": [
       "   PERFORM_CNS.SCORE  loan_default      % age   total\n",
       "0                  0         27052  23.131253  116950\n",
       "1                 11             0   0.000000       3\n",
       "2                 14           208  21.311475     976\n",
       "3                 15           963  25.577689    3765\n",
       "4                 16           530  18.370884    2885"
      ]
     },
     "execution_count": 63,
     "metadata": {},
     "output_type": "execute_result"
    }
   ],
   "source": [
    "cns_score.head()"
   ]
  },
  {
   "cell_type": "code",
   "execution_count": 64,
   "metadata": {
    "ExecuteTime": {
     "end_time": "2019-04-18T17:24:19.378692Z",
     "start_time": "2019-04-18T17:24:19.274828Z"
    },
    "hidden": true
   },
   "outputs": [
    {
     "data": {
      "text/plain": [
       "0    182543\n",
       "1     50611\n",
       "Name: loan_default, dtype: int64"
      ]
     },
     "execution_count": 64,
     "metadata": {},
     "output_type": "execute_result"
    }
   ],
   "source": [
    "df_train['loan_default'].value_counts()"
   ]
  },
  {
   "cell_type": "code",
   "execution_count": 65,
   "metadata": {
    "ExecuteTime": {
     "end_time": "2019-04-18T17:24:19.557478Z",
     "start_time": "2019-04-18T17:24:19.379716Z"
    },
    "hidden": true
   },
   "outputs": [
    {
     "data": {
      "text/plain": [
       "<matplotlib.axes._subplots.AxesSubplot at 0x1aa196a1f28>"
      ]
     },
     "execution_count": 65,
     "metadata": {},
     "output_type": "execute_result"
    },
    {
     "data": {
      "image/png": "[encoded data removed]",
      "text/plain": [
       "<Figure size 720x576 with 1 Axes>"
      ]
     },
     "metadata": {
      "needs_background": "light"
     },
     "output_type": "display_data"
    }
   ],
   "source": [
    "plt.figure(figsize=(10,8))\n",
    "sns.scatterplot(data=cns_score, x= '% age', y='PERFORM_CNS.SCORE')"
   ]
  },
  {
   "cell_type": "markdown",
   "metadata": {
    "heading_collapsed": true
   },
   "source": [
    "#### PERFORM_CNS.SCORE.DESCRIPTION"
   ]
  },
  {
   "cell_type": "code",
   "execution_count": 66,
   "metadata": {
    "ExecuteTime": {
     "end_time": "2019-04-18T17:24:19.594440Z",
     "start_time": "2019-04-18T17:24:19.558475Z"
    },
    "hidden": true
   },
   "outputs": [],
   "source": [
    "cns_desc = cat_feature_vs_target(df_train, 'PERFORM_CNS.SCORE.DESCRIPTION', 'loan_default')"
   ]
  },
  {
   "cell_type": "code",
   "execution_count": 67,
   "metadata": {
    "ExecuteTime": {
     "end_time": "2019-04-18T17:24:19.650578Z",
     "start_time": "2019-04-18T17:24:19.595405Z"
    },
    "hidden": true
   },
   "outputs": [
    {
     "data": {
      "text/html": [
       "<div>\n",
       "<style scoped>\n",
       "    .dataframe tbody tr th:only-of-type {\n",
       "        vertical-align: middle;\n",
       "    }\n",
       "\n",
       "    .dataframe tbody tr th {\n",
       "        vertical-align: top;\n",
       "    }\n",
       "\n",
       "    .dataframe thead th {\n",
       "        text-align: right;\n",
       "    }\n",
       "</style>\n",
       "<table border=\"1\" class=\"dataframe\">\n",
       "  <thead>\n",
       "    <tr style=\"text-align: right;\">\n",
       "      <th></th>\n",
       "      <th>PERFORM_CNS.SCORE.DESCRIPTION</th>\n",
       "      <th>loan_default</th>\n",
       "      <th>% age</th>\n",
       "      <th>total</th>\n",
       "    </tr>\n",
       "  </thead>\n",
       "  <tbody>\n",
       "    <tr>\n",
       "      <th>12</th>\n",
       "      <td>M-Very High Risk</td>\n",
       "      <td>2673</td>\n",
       "      <td>30.458067</td>\n",
       "      <td>8776</td>\n",
       "    </tr>\n",
       "    <tr>\n",
       "      <th>11</th>\n",
       "      <td>L-Very High Risk</td>\n",
       "      <td>318</td>\n",
       "      <td>28.042328</td>\n",
       "      <td>1134</td>\n",
       "    </tr>\n",
       "    <tr>\n",
       "      <th>10</th>\n",
       "      <td>K-High Risk</td>\n",
       "      <td>2302</td>\n",
       "      <td>27.812009</td>\n",
       "      <td>8277</td>\n",
       "    </tr>\n",
       "    <tr>\n",
       "      <th>8</th>\n",
       "      <td>I-Medium Risk</td>\n",
       "      <td>1515</td>\n",
       "      <td>27.262912</td>\n",
       "      <td>5557</td>\n",
       "    </tr>\n",
       "    <tr>\n",
       "      <th>19</th>\n",
       "      <td>Not Scored: Sufficient History Not Available</td>\n",
       "      <td>963</td>\n",
       "      <td>25.577689</td>\n",
       "      <td>3765</td>\n",
       "    </tr>\n",
       "    <tr>\n",
       "      <th>9</th>\n",
       "      <td>J-High Risk</td>\n",
       "      <td>946</td>\n",
       "      <td>25.240128</td>\n",
       "      <td>3748</td>\n",
       "    </tr>\n",
       "    <tr>\n",
       "      <th>7</th>\n",
       "      <td>H-Medium Risk</td>\n",
       "      <td>1658</td>\n",
       "      <td>24.186725</td>\n",
       "      <td>6855</td>\n",
       "    </tr>\n",
       "    <tr>\n",
       "      <th>13</th>\n",
       "      <td>No Bureau History Available</td>\n",
       "      <td>27052</td>\n",
       "      <td>23.131253</td>\n",
       "      <td>116950</td>\n",
       "    </tr>\n",
       "    <tr>\n",
       "      <th>18</th>\n",
       "      <td>Not Scored: Only a Guarantor</td>\n",
       "      <td>208</td>\n",
       "      <td>21.311475</td>\n",
       "      <td>976</td>\n",
       "    </tr>\n",
       "    <tr>\n",
       "      <th>17</th>\n",
       "      <td>Not Scored: Not Enough Info available on the c...</td>\n",
       "      <td>770</td>\n",
       "      <td>20.969499</td>\n",
       "      <td>3672</td>\n",
       "    </tr>\n",
       "    <tr>\n",
       "      <th>6</th>\n",
       "      <td>G-Low Risk</td>\n",
       "      <td>786</td>\n",
       "      <td>19.709127</td>\n",
       "      <td>3988</td>\n",
       "    </tr>\n",
       "    <tr>\n",
       "      <th>16</th>\n",
       "      <td>Not Scored: No Updates available in last 36 mo...</td>\n",
       "      <td>292</td>\n",
       "      <td>19.035202</td>\n",
       "      <td>1534</td>\n",
       "    </tr>\n",
       "    <tr>\n",
       "      <th>5</th>\n",
       "      <td>F-Low Risk</td>\n",
       "      <td>1580</td>\n",
       "      <td>18.621096</td>\n",
       "      <td>8485</td>\n",
       "    </tr>\n",
       "    <tr>\n",
       "      <th>15</th>\n",
       "      <td>Not Scored: No Activity seen on the customer (...</td>\n",
       "      <td>530</td>\n",
       "      <td>18.370884</td>\n",
       "      <td>2885</td>\n",
       "    </tr>\n",
       "    <tr>\n",
       "      <th>2</th>\n",
       "      <td>C-Very Low Risk</td>\n",
       "      <td>2770</td>\n",
       "      <td>17.263945</td>\n",
       "      <td>16045</td>\n",
       "    </tr>\n",
       "    <tr>\n",
       "      <th>4</th>\n",
       "      <td>E-Low Risk</td>\n",
       "      <td>1000</td>\n",
       "      <td>17.179179</td>\n",
       "      <td>5821</td>\n",
       "    </tr>\n",
       "    <tr>\n",
       "      <th>0</th>\n",
       "      <td>A-Very Low Risk</td>\n",
       "      <td>2341</td>\n",
       "      <td>16.574625</td>\n",
       "      <td>14124</td>\n",
       "    </tr>\n",
       "    <tr>\n",
       "      <th>3</th>\n",
       "      <td>D-Very Low Risk</td>\n",
       "      <td>1699</td>\n",
       "      <td>14.958619</td>\n",
       "      <td>11358</td>\n",
       "    </tr>\n",
       "    <tr>\n",
       "      <th>1</th>\n",
       "      <td>B-Very Low Risk</td>\n",
       "      <td>1208</td>\n",
       "      <td>13.129008</td>\n",
       "      <td>9201</td>\n",
       "    </tr>\n",
       "    <tr>\n",
       "      <th>14</th>\n",
       "      <td>Not Scored: More than 50 active Accounts found</td>\n",
       "      <td>0</td>\n",
       "      <td>0.000000</td>\n",
       "      <td>3</td>\n",
       "    </tr>\n",
       "  </tbody>\n",
       "</table>\n",
       "</div>"
      ],
      "text/plain": [
       "                        PERFORM_CNS.SCORE.DESCRIPTION  loan_default  \\\n",
       "12                                   M-Very High Risk          2673   \n",
       "11                                   L-Very High Risk           318   \n",
       "10                                        K-High Risk          2302   \n",
       "8                                       I-Medium Risk          1515   \n",
       "19       Not Scored: Sufficient History Not Available           963   \n",
       "9                                         J-High Risk           946   \n",
       "7                                       H-Medium Risk          1658   \n",
       "13                        No Bureau History Available         27052   \n",
       "18                       Not Scored: Only a Guarantor           208   \n",
       "17  Not Scored: Not Enough Info available on the c...           770   \n",
       "6                                          G-Low Risk           786   \n",
       "16  Not Scored: No Updates available in last 36 mo...           292   \n",
       "5                                          F-Low Risk          1580   \n",
       "15  Not Scored: No Activity seen on the customer (...           530   \n",
       "2                                     C-Very Low Risk          2770   \n",
       "4                                          E-Low Risk          1000   \n",
       "0                                     A-Very Low Risk          2341   \n",
       "3                                     D-Very Low Risk          1699   \n",
       "1                                     B-Very Low Risk          1208   \n",
       "14     Not Scored: More than 50 active Accounts found             0   \n",
       "\n",
       "        % age   total  \n",
       "12  30.458067    8776  \n",
       "11  28.042328    1134  \n",
       "10  27.812009    8277  \n",
       "8   27.262912    5557  \n",
       "19  25.577689    3765  \n",
       "9   25.240128    3748  \n",
       "7   24.186725    6855  \n",
       "13  23.131253  116950  \n",
       "18  21.311475     976  \n",
       "17  20.969499    3672  \n",
       "6   19.709127    3988  \n",
       "16  19.035202    1534  \n",
       "5   18.621096    8485  \n",
       "15  18.370884    2885  \n",
       "2   17.263945   16045  \n",
       "4   17.179179    5821  \n",
       "0   16.574625   14124  \n",
       "3   14.958619   11358  \n",
       "1   13.129008    9201  \n",
       "14   0.000000       3  "
      ]
     },
     "execution_count": 67,
     "metadata": {},
     "output_type": "execute_result"
    }
   ],
   "source": [
    "cns_desc.sort_values(by='% age', ascending=False)"
   ]
  },
  {
   "cell_type": "code",
   "execution_count": 68,
   "metadata": {
    "ExecuteTime": {
     "end_time": "2019-04-18T17:24:19.733304Z",
     "start_time": "2019-04-18T17:24:19.651575Z"
    },
    "hidden": true
   },
   "outputs": [],
   "source": [
    "def woe(X, feat, target):\n",
    "    woe = pd.DataFrame(\n",
    "                    {'1s' :X.groupby(by=feat).sum()[target],\n",
    "                     'Total' : X.groupby(by=feat).count()[target]})\n",
    "    woe['0s'] = woe['Total'] - woe['1s']\n",
    "    \n",
    "    #woe.reset_index(level=0)\n",
    "    total_good = woe['1s'].sum()\n",
    "    total_bad = woe['0s'].sum()\n",
    "    a = np.log(woe['1s'].values/total_good)\n",
    "    b = np.log(woe['0s'].values/total_bad) \n",
    "    woe['WOE'] = a - b\n",
    "    sums = woe.sum()\n",
    "    woe['% Event'] = woe['1s']/woe.sum()['1s']\n",
    "    woe['% NonEvent'] = woe['0s']/woe.sum()['0s']\n",
    "    woe['IV'] = (woe['% Event'] - woe['% NonEvent']) * woe['WOE']\n",
    "    return pd.concat([woe, cat_feature_vs_target(X, feat, target).set_index(feat)['% age']], axis=1)"
   ]
  },
  {
   "cell_type": "code",
   "execution_count": 69,
   "metadata": {
    "ExecuteTime": {
     "end_time": "2019-04-18T17:24:20.100334Z",
     "start_time": "2019-04-18T17:24:19.734302Z"
    },
    "hidden": true
   },
   "outputs": [
    {
     "name": "stderr",
     "output_type": "stream",
     "text": [
      "C:\\Users\\Elysium\\Anaconda3\\lib\\site-packages\\ipykernel_launcher.py:10: RuntimeWarning: divide by zero encountered in log\n",
      "  # Remove the CWD from sys.path while we load stuff.\n"
     ]
    },
    {
     "data": {
      "text/html": [
       "<div>\n",
       "<style scoped>\n",
       "    .dataframe tbody tr th:only-of-type {\n",
       "        vertical-align: middle;\n",
       "    }\n",
       "\n",
       "    .dataframe tbody tr th {\n",
       "        vertical-align: top;\n",
       "    }\n",
       "\n",
       "    .dataframe thead th {\n",
       "        text-align: right;\n",
       "    }\n",
       "</style>\n",
       "<table border=\"1\" class=\"dataframe\">\n",
       "  <thead>\n",
       "    <tr style=\"text-align: right;\">\n",
       "      <th></th>\n",
       "      <th>1s</th>\n",
       "      <th>Total</th>\n",
       "      <th>0s</th>\n",
       "      <th>WOE</th>\n",
       "      <th>% Event</th>\n",
       "      <th>% NonEvent</th>\n",
       "      <th>IV</th>\n",
       "      <th>% age</th>\n",
       "    </tr>\n",
       "    <tr>\n",
       "      <th>PERFORM_CNS.SCORE.DESCRIPTION</th>\n",
       "      <th></th>\n",
       "      <th></th>\n",
       "      <th></th>\n",
       "      <th></th>\n",
       "      <th></th>\n",
       "      <th></th>\n",
       "      <th></th>\n",
       "      <th></th>\n",
       "    </tr>\n",
       "  </thead>\n",
       "  <tbody>\n",
       "    <tr>\n",
       "      <th>M-Very High Risk</th>\n",
       "      <td>2673</td>\n",
       "      <td>8776</td>\n",
       "      <td>6103</td>\n",
       "      <td>0.457238</td>\n",
       "      <td>0.052815</td>\n",
       "      <td>0.033433</td>\n",
       "      <td>0.008862</td>\n",
       "      <td>30.458067</td>\n",
       "    </tr>\n",
       "    <tr>\n",
       "      <th>L-Very High Risk</th>\n",
       "      <td>318</td>\n",
       "      <td>1134</td>\n",
       "      <td>816</td>\n",
       "      <td>0.340454</td>\n",
       "      <td>0.006283</td>\n",
       "      <td>0.004470</td>\n",
       "      <td>0.000617</td>\n",
       "      <td>28.042328</td>\n",
       "    </tr>\n",
       "    <tr>\n",
       "      <th>K-High Risk</th>\n",
       "      <td>2302</td>\n",
       "      <td>8277</td>\n",
       "      <td>5975</td>\n",
       "      <td>0.329011</td>\n",
       "      <td>0.045484</td>\n",
       "      <td>0.032732</td>\n",
       "      <td>0.004196</td>\n",
       "      <td>27.812009</td>\n",
       "    </tr>\n",
       "    <tr>\n",
       "      <th>I-Medium Risk</th>\n",
       "      <td>1515</td>\n",
       "      <td>5557</td>\n",
       "      <td>4042</td>\n",
       "      <td>0.301493</td>\n",
       "      <td>0.029934</td>\n",
       "      <td>0.022143</td>\n",
       "      <td>0.002349</td>\n",
       "      <td>27.262912</td>\n",
       "    </tr>\n",
       "    <tr>\n",
       "      <th>Not Scored: Sufficient History Not Available</th>\n",
       "      <td>963</td>\n",
       "      <td>3765</td>\n",
       "      <td>2802</td>\n",
       "      <td>0.214782</td>\n",
       "      <td>0.019027</td>\n",
       "      <td>0.015350</td>\n",
       "      <td>0.000790</td>\n",
       "      <td>25.577689</td>\n",
       "    </tr>\n",
       "    <tr>\n",
       "      <th>J-High Risk</th>\n",
       "      <td>946</td>\n",
       "      <td>3748</td>\n",
       "      <td>2802</td>\n",
       "      <td>0.196971</td>\n",
       "      <td>0.018692</td>\n",
       "      <td>0.015350</td>\n",
       "      <td>0.000658</td>\n",
       "      <td>25.240128</td>\n",
       "    </tr>\n",
       "    <tr>\n",
       "      <th>H-Medium Risk</th>\n",
       "      <td>1658</td>\n",
       "      <td>6855</td>\n",
       "      <td>5197</td>\n",
       "      <td>0.140347</td>\n",
       "      <td>0.032760</td>\n",
       "      <td>0.028470</td>\n",
       "      <td>0.000602</td>\n",
       "      <td>24.186725</td>\n",
       "    </tr>\n",
       "    <tr>\n",
       "      <th>No Bureau History Available</th>\n",
       "      <td>27052</td>\n",
       "      <td>116950</td>\n",
       "      <td>89898</td>\n",
       "      <td>0.081902</td>\n",
       "      <td>0.534508</td>\n",
       "      <td>0.492476</td>\n",
       "      <td>0.003443</td>\n",
       "      <td>23.131253</td>\n",
       "    </tr>\n",
       "    <tr>\n",
       "      <th>Not Scored: Only a Guarantor</th>\n",
       "      <td>208</td>\n",
       "      <td>976</td>\n",
       "      <td>768</td>\n",
       "      <td>-0.023435</td>\n",
       "      <td>0.004110</td>\n",
       "      <td>0.004207</td>\n",
       "      <td>0.000002</td>\n",
       "      <td>21.311475</td>\n",
       "    </tr>\n",
       "    <tr>\n",
       "      <th>Not Scored: Not Enough Info available on the customer</th>\n",
       "      <td>770</td>\n",
       "      <td>3672</td>\n",
       "      <td>2902</td>\n",
       "      <td>-0.043948</td>\n",
       "      <td>0.015214</td>\n",
       "      <td>0.015898</td>\n",
       "      <td>0.000030</td>\n",
       "      <td>20.969499</td>\n",
       "    </tr>\n",
       "    <tr>\n",
       "      <th>G-Low Risk</th>\n",
       "      <td>786</td>\n",
       "      <td>3988</td>\n",
       "      <td>3202</td>\n",
       "      <td>-0.121757</td>\n",
       "      <td>0.015530</td>\n",
       "      <td>0.017541</td>\n",
       "      <td>0.000245</td>\n",
       "      <td>19.709127</td>\n",
       "    </tr>\n",
       "    <tr>\n",
       "      <th>Not Scored: No Updates available in last 36 months</th>\n",
       "      <td>292</td>\n",
       "      <td>1534</td>\n",
       "      <td>1242</td>\n",
       "      <td>-0.164908</td>\n",
       "      <td>0.005769</td>\n",
       "      <td>0.006804</td>\n",
       "      <td>0.000171</td>\n",
       "      <td>19.035202</td>\n",
       "    </tr>\n",
       "    <tr>\n",
       "      <th>F-Low Risk</th>\n",
       "      <td>1580</td>\n",
       "      <td>8485</td>\n",
       "      <td>6905</td>\n",
       "      <td>-0.192004</td>\n",
       "      <td>0.031219</td>\n",
       "      <td>0.037827</td>\n",
       "      <td>0.001269</td>\n",
       "      <td>18.621096</td>\n",
       "    </tr>\n",
       "    <tr>\n",
       "      <th>Not Scored: No Activity seen on the customer (Inactive)</th>\n",
       "      <td>530</td>\n",
       "      <td>2885</td>\n",
       "      <td>2355</td>\n",
       "      <td>-0.208602</td>\n",
       "      <td>0.010472</td>\n",
       "      <td>0.012901</td>\n",
       "      <td>0.000507</td>\n",
       "      <td>18.370884</td>\n",
       "    </tr>\n",
       "    <tr>\n",
       "      <th>C-Very Low Risk</th>\n",
       "      <td>2770</td>\n",
       "      <td>16045</td>\n",
       "      <td>13275</td>\n",
       "      <td>-0.284218</td>\n",
       "      <td>0.054731</td>\n",
       "      <td>0.072723</td>\n",
       "      <td>0.005113</td>\n",
       "      <td>17.263945</td>\n",
       "    </tr>\n",
       "    <tr>\n",
       "      <th>E-Low Risk</th>\n",
       "      <td>1000</td>\n",
       "      <td>5821</td>\n",
       "      <td>4821</td>\n",
       "      <td>-0.290165</td>\n",
       "      <td>0.019759</td>\n",
       "      <td>0.026410</td>\n",
       "      <td>0.001930</td>\n",
       "      <td>17.179179</td>\n",
       "    </tr>\n",
       "    <tr>\n",
       "      <th>A-Very Low Risk</th>\n",
       "      <td>2341</td>\n",
       "      <td>14124</td>\n",
       "      <td>11783</td>\n",
       "      <td>-0.333263</td>\n",
       "      <td>0.046255</td>\n",
       "      <td>0.064549</td>\n",
       "      <td>0.006097</td>\n",
       "      <td>16.574625</td>\n",
       "    </tr>\n",
       "    <tr>\n",
       "      <th>D-Very Low Risk</th>\n",
       "      <td>1699</td>\n",
       "      <td>11358</td>\n",
       "      <td>9659</td>\n",
       "      <td>-0.455033</td>\n",
       "      <td>0.033570</td>\n",
       "      <td>0.052914</td>\n",
       "      <td>0.008802</td>\n",
       "      <td>14.958619</td>\n",
       "    </tr>\n",
       "    <tr>\n",
       "      <th>B-Very Low Risk</th>\n",
       "      <td>1208</td>\n",
       "      <td>9201</td>\n",
       "      <td>7993</td>\n",
       "      <td>-0.606783</td>\n",
       "      <td>0.023868</td>\n",
       "      <td>0.043787</td>\n",
       "      <td>0.012086</td>\n",
       "      <td>13.129008</td>\n",
       "    </tr>\n",
       "    <tr>\n",
       "      <th>Not Scored: More than 50 active Accounts found</th>\n",
       "      <td>0</td>\n",
       "      <td>3</td>\n",
       "      <td>3</td>\n",
       "      <td>-inf</td>\n",
       "      <td>0.000000</td>\n",
       "      <td>0.000016</td>\n",
       "      <td>inf</td>\n",
       "      <td>0.000000</td>\n",
       "    </tr>\n",
       "  </tbody>\n",
       "</table>\n",
       "</div>"
      ],
      "text/plain": [
       "                                                       1s   Total     0s  \\\n",
       "PERFORM_CNS.SCORE.DESCRIPTION                                              \n",
       "M-Very High Risk                                     2673    8776   6103   \n",
       "L-Very High Risk                                      318    1134    816   \n",
       "K-High Risk                                          2302    8277   5975   \n",
       "I-Medium Risk                                        1515    5557   4042   \n",
       "Not Scored: Sufficient History Not Available          963    3765   2802   \n",
       "J-High Risk                                           946    3748   2802   \n",
       "H-Medium Risk                                        1658    6855   5197   \n",
       "No Bureau History Available                         27052  116950  89898   \n",
       "Not Scored: Only a Guarantor                          208     976    768   \n",
       "Not Scored: Not Enough Info available on the cu...    770    3672   2902   \n",
       "G-Low Risk                                            786    3988   3202   \n",
       "Not Scored: No Updates available in last 36 months    292    1534   1242   \n",
       "F-Low Risk                                           1580    8485   6905   \n",
       "Not Scored: No Activity seen on the customer (I...    530    2885   2355   \n",
       "C-Very Low Risk                                      2770   16045  13275   \n",
       "E-Low Risk                                           1000    5821   4821   \n",
       "A-Very Low Risk                                      2341   14124  11783   \n",
       "D-Very Low Risk                                      1699   11358   9659   \n",
       "B-Very Low Risk                                      1208    9201   7993   \n",
       "Not Scored: More than 50 active Accounts found          0       3      3   \n",
       "\n",
       "                                                         WOE   % Event  \\\n",
       "PERFORM_CNS.SCORE.DESCRIPTION                                            \n",
       "M-Very High Risk                                    0.457238  0.052815   \n",
       "L-Very High Risk                                    0.340454  0.006283   \n",
       "K-High Risk                                         0.329011  0.045484   \n",
       "I-Medium Risk                                       0.301493  0.029934   \n",
       "Not Scored: Sufficient History Not Available        0.214782  0.019027   \n",
       "J-High Risk                                         0.196971  0.018692   \n",
       "H-Medium Risk                                       0.140347  0.032760   \n",
       "No Bureau History Available                         0.081902  0.534508   \n",
       "Not Scored: Only a Guarantor                       -0.023435  0.004110   \n",
       "Not Scored: Not Enough Info available on the cu... -0.043948  0.015214   \n",
       "G-Low Risk                                         -0.121757  0.015530   \n",
       "Not Scored: No Updates available in last 36 months -0.164908  0.005769   \n",
       "F-Low Risk                                         -0.192004  0.031219   \n",
       "Not Scored: No Activity seen on the customer (I... -0.208602  0.010472   \n",
       "C-Very Low Risk                                    -0.284218  0.054731   \n",
       "E-Low Risk                                         -0.290165  0.019759   \n",
       "A-Very Low Risk                                    -0.333263  0.046255   \n",
       "D-Very Low Risk                                    -0.455033  0.033570   \n",
       "B-Very Low Risk                                    -0.606783  0.023868   \n",
       "Not Scored: More than 50 active Accounts found          -inf  0.000000   \n",
       "\n",
       "                                                    % NonEvent        IV  \\\n",
       "PERFORM_CNS.SCORE.DESCRIPTION                                              \n",
       "M-Very High Risk                                      0.033433  0.008862   \n",
       "L-Very High Risk                                      0.004470  0.000617   \n",
       "K-High Risk                                           0.032732  0.004196   \n",
       "I-Medium Risk                                         0.022143  0.002349   \n",
       "Not Scored: Sufficient History Not Available          0.015350  0.000790   \n",
       "J-High Risk                                           0.015350  0.000658   \n",
       "H-Medium Risk                                         0.028470  0.000602   \n",
       "No Bureau History Available                           0.492476  0.003443   \n",
       "Not Scored: Only a Guarantor                          0.004207  0.000002   \n",
       "Not Scored: Not Enough Info available on the cu...    0.015898  0.000030   \n",
       "G-Low Risk                                            0.017541  0.000245   \n",
       "Not Scored: No Updates available in last 36 months    0.006804  0.000171   \n",
       "F-Low Risk                                            0.037827  0.001269   \n",
       "Not Scored: No Activity seen on the customer (I...    0.012901  0.000507   \n",
       "C-Very Low Risk                                       0.072723  0.005113   \n",
       "E-Low Risk                                            0.026410  0.001930   \n",
       "A-Very Low Risk                                       0.064549  0.006097   \n",
       "D-Very Low Risk                                       0.052914  0.008802   \n",
       "B-Very Low Risk                                       0.043787  0.012086   \n",
       "Not Scored: More than 50 active Accounts found        0.000016       inf   \n",
       "\n",
       "                                                        % age  \n",
       "PERFORM_CNS.SCORE.DESCRIPTION                                  \n",
       "M-Very High Risk                                    30.458067  \n",
       "L-Very High Risk                                    28.042328  \n",
       "K-High Risk                                         27.812009  \n",
       "I-Medium Risk                                       27.262912  \n",
       "Not Scored: Sufficient History Not Available        25.577689  \n",
       "J-High Risk                                         25.240128  \n",
       "H-Medium Risk                                       24.186725  \n",
       "No Bureau History Available                         23.131253  \n",
       "Not Scored: Only a Guarantor                        21.311475  \n",
       "Not Scored: Not Enough Info available on the cu...  20.969499  \n",
       "G-Low Risk                                          19.709127  \n",
       "Not Scored: No Updates available in last 36 months  19.035202  \n",
       "F-Low Risk                                          18.621096  \n",
       "Not Scored: No Activity seen on the customer (I...  18.370884  \n",
       "C-Very Low Risk                                     17.263945  \n",
       "E-Low Risk                                          17.179179  \n",
       "A-Very Low Risk                                     16.574625  \n",
       "D-Very Low Risk                                     14.958619  \n",
       "B-Very Low Risk                                     13.129008  \n",
       "Not Scored: More than 50 active Accounts found       0.000000  "
      ]
     },
     "execution_count": 69,
     "metadata": {},
     "output_type": "execute_result"
    }
   ],
   "source": [
    "woe_cns_desc = woe(df_train, 'PERFORM_CNS.SCORE.DESCRIPTION', 'loan_default').sort_values(by='% age', ascending= False)\n",
    "woe_cns_desc"
   ]
  },
  {
   "cell_type": "code",
   "execution_count": 70,
   "metadata": {
    "ExecuteTime": {
     "end_time": "2019-04-18T17:24:20.263806Z",
     "start_time": "2019-04-18T17:24:20.101331Z"
    },
    "hidden": true
   },
   "outputs": [],
   "source": [
    "df_train['CNS_desc_map'] = df_train['PERFORM_CNS.SCORE.DESCRIPTION']\n",
    "df_train[['CNS_desc_map']] = df_train[['CNS_desc_map']].apply(lambda x: x.map({\n",
    "    'M-Very High Risk': 'Very High Risk', 'L-Very High Risk' : 'Very High Risk', 'K-High Risk': 'Very High Risk',\n",
    "    'I-Medium Risk': 'High Risk','Not Scored: Sufficient History Not Available': 'High Risk',\n",
    "    'J-High Risk': 'High Risk', 'H-Medium Risk' : 'High Risk', 'No Bureau History Available': 'Medium risk',\n",
    "       'Not Scored: Only a Guarantor': 'Medium risk',\n",
    "       'Not Scored: Not Enough Info available on the customer': 'Medium risk', 'G-Low Risk': 'Small risk',\n",
    "       'Not Scored: No Updates available in last 36 months': 'Small risk', 'F-Low Risk': 'Small risk',\n",
    "    'Not Scored: No Activity seen on the customer (Inactive)': 'Small risk',\n",
    "    'C-Very Low Risk':'Least Risk',\n",
    "    'E-Low Risk':'Least Risk', \n",
    "    'A-Very Low Risk':'Least Risk', \n",
    "    'D-Very Low Risk':'Least Risk',\n",
    "    'B-Very Low Risk':'Least Risk', \n",
    "    'Not Scored: More than 50 active Accounts found':'Least Risk'\n",
    "}))"
   ]
  },
  {
   "cell_type": "code",
   "execution_count": 71,
   "metadata": {
    "ExecuteTime": {
     "end_time": "2019-04-18T17:24:20.521059Z",
     "start_time": "2019-04-18T17:24:20.264739Z"
    },
    "hidden": true
   },
   "outputs": [
    {
     "data": {
      "text/html": [
       "<div>\n",
       "<style scoped>\n",
       "    .dataframe tbody tr th:only-of-type {\n",
       "        vertical-align: middle;\n",
       "    }\n",
       "\n",
       "    .dataframe tbody tr th {\n",
       "        vertical-align: top;\n",
       "    }\n",
       "\n",
       "    .dataframe thead th {\n",
       "        text-align: right;\n",
       "    }\n",
       "</style>\n",
       "<table border=\"1\" class=\"dataframe\">\n",
       "  <thead>\n",
       "    <tr style=\"text-align: right;\">\n",
       "      <th></th>\n",
       "      <th>1s</th>\n",
       "      <th>Total</th>\n",
       "      <th>0s</th>\n",
       "      <th>WOE</th>\n",
       "      <th>% Event</th>\n",
       "      <th>% NonEvent</th>\n",
       "      <th>IV</th>\n",
       "      <th>% age</th>\n",
       "    </tr>\n",
       "    <tr>\n",
       "      <th>CNS_desc_map</th>\n",
       "      <th></th>\n",
       "      <th></th>\n",
       "      <th></th>\n",
       "      <th></th>\n",
       "      <th></th>\n",
       "      <th></th>\n",
       "      <th></th>\n",
       "      <th></th>\n",
       "    </tr>\n",
       "  </thead>\n",
       "  <tbody>\n",
       "    <tr>\n",
       "      <th>Very High Risk</th>\n",
       "      <td>5293</td>\n",
       "      <td>18187</td>\n",
       "      <td>12894</td>\n",
       "      <td>0.392440</td>\n",
       "      <td>0.104582</td>\n",
       "      <td>0.070635</td>\n",
       "      <td>0.013322</td>\n",
       "      <td>29.103206</td>\n",
       "    </tr>\n",
       "    <tr>\n",
       "      <th>High Risk</th>\n",
       "      <td>5082</td>\n",
       "      <td>19925</td>\n",
       "      <td>14843</td>\n",
       "      <td>0.210993</td>\n",
       "      <td>0.100413</td>\n",
       "      <td>0.081312</td>\n",
       "      <td>0.004030</td>\n",
       "      <td>25.505646</td>\n",
       "    </tr>\n",
       "    <tr>\n",
       "      <th>Medium risk</th>\n",
       "      <td>28030</td>\n",
       "      <td>121598</td>\n",
       "      <td>93568</td>\n",
       "      <td>0.077404</td>\n",
       "      <td>0.553832</td>\n",
       "      <td>0.512581</td>\n",
       "      <td>0.003193</td>\n",
       "      <td>23.051366</td>\n",
       "    </tr>\n",
       "    <tr>\n",
       "      <th>Small risk</th>\n",
       "      <td>3188</td>\n",
       "      <td>16892</td>\n",
       "      <td>13704</td>\n",
       "      <td>-0.175477</td>\n",
       "      <td>0.062990</td>\n",
       "      <td>0.075073</td>\n",
       "      <td>0.002120</td>\n",
       "      <td>18.872839</td>\n",
       "    </tr>\n",
       "    <tr>\n",
       "      <th>Least Risk</th>\n",
       "      <td>9018</td>\n",
       "      <td>56552</td>\n",
       "      <td>47534</td>\n",
       "      <td>-0.379406</td>\n",
       "      <td>0.178183</td>\n",
       "      <td>0.260399</td>\n",
       "      <td>0.031193</td>\n",
       "      <td>15.946386</td>\n",
       "    </tr>\n",
       "  </tbody>\n",
       "</table>\n",
       "</div>"
      ],
      "text/plain": [
       "                   1s   Total     0s       WOE   % Event  % NonEvent  \\\n",
       "CNS_desc_map                                                           \n",
       "Very High Risk   5293   18187  12894  0.392440  0.104582    0.070635   \n",
       "High Risk        5082   19925  14843  0.210993  0.100413    0.081312   \n",
       "Medium risk     28030  121598  93568  0.077404  0.553832    0.512581   \n",
       "Small risk       3188   16892  13704 -0.175477  0.062990    0.075073   \n",
       "Least Risk       9018   56552  47534 -0.379406  0.178183    0.260399   \n",
       "\n",
       "                      IV      % age  \n",
       "CNS_desc_map                         \n",
       "Very High Risk  0.013322  29.103206  \n",
       "High Risk       0.004030  25.505646  \n",
       "Medium risk     0.003193  23.051366  \n",
       "Small risk      0.002120  18.872839  \n",
       "Least Risk      0.031193  15.946386  "
      ]
     },
     "execution_count": 71,
     "metadata": {},
     "output_type": "execute_result"
    }
   ],
   "source": [
    "woe_cns_desc = woe(df_train, 'CNS_desc_map', 'loan_default').sort_values(by='% age', ascending= False)\n",
    "woe_cns_desc"
   ]
  },
  {
   "cell_type": "code",
   "execution_count": 72,
   "metadata": {
    "ExecuteTime": {
     "end_time": "2019-04-18T17:24:20.526046Z",
     "start_time": "2019-04-18T17:24:20.522057Z"
    },
    "hidden": true
   },
   "outputs": [
    {
     "data": {
      "text/plain": [
       "0.05385867164459991"
      ]
     },
     "execution_count": 72,
     "metadata": {},
     "output_type": "execute_result"
    }
   ],
   "source": [
    "woe_cns_desc.sum()['IV']"
   ]
  },
  {
   "cell_type": "code",
   "execution_count": 73,
   "metadata": {
    "ExecuteTime": {
     "end_time": "2019-04-18T17:24:20.729536Z",
     "start_time": "2019-04-18T17:24:20.527044Z"
    },
    "hidden": true
   },
   "outputs": [
    {
     "data": {
      "text/plain": [
       "<matplotlib.axes._subplots.AxesSubplot at 0x1aa19a5b780>"
      ]
     },
     "execution_count": 73,
     "metadata": {},
     "output_type": "execute_result"
    },
    {
     "data": {
      "image/png": "[encoded data removed]",
      "text/plain": [
       "<Figure size 648x432 with 1 Axes>"
      ]
     },
     "metadata": {},
     "output_type": "display_data"
    }
   ],
   "source": [
    "sns.set_style('darkgrid')\n",
    "plt.figure(figsize=(9, 6))\n",
    "sns.lineplot(x=woe_cns_desc.index, y=woe_cns_desc['WOE'], sort=False)"
   ]
  },
  {
   "cell_type": "code",
   "execution_count": 74,
   "metadata": {
    "ExecuteTime": {
     "end_time": "2019-04-18T17:24:20.732557Z",
     "start_time": "2019-04-18T17:24:20.730534Z"
    },
    "hidden": true
   },
   "outputs": [],
   "source": [
    "to_drop.append('PERFORM_CNS.SCORE.DESCRIPTION')"
   ]
  },
  {
   "cell_type": "markdown",
   "metadata": {
    "heading_collapsed": true
   },
   "source": [
    "#### PRI.NO.OF.ACCTS"
   ]
  },
  {
   "cell_type": "code",
   "execution_count": 75,
   "metadata": {
    "ExecuteTime": {
     "end_time": "2019-04-18T17:24:20.854913Z",
     "start_time": "2019-04-18T17:24:20.733525Z"
    },
    "hidden": true
   },
   "outputs": [],
   "source": [
    "prim_acc = cat_feature_vs_target(df_train, 'PRI.NO.OF.ACCTS', 'loan_default')"
   ]
  },
  {
   "cell_type": "code",
   "execution_count": 76,
   "metadata": {
    "ExecuteTime": {
     "end_time": "2019-04-18T17:24:21.078876Z",
     "start_time": "2019-04-18T17:24:20.855876Z"
    },
    "hidden": true
   },
   "outputs": [
    {
     "data": {
      "text/plain": [
       "<matplotlib.axes._subplots.AxesSubplot at 0x1aa19ab38d0>"
      ]
     },
     "execution_count": 76,
     "metadata": {},
     "output_type": "execute_result"
    },
    {
     "data": {
      "image/png": "[encoded data removed]",
      "text/plain": [
       "<Figure size 720x576 with 1 Axes>"
      ]
     },
     "metadata": {},
     "output_type": "display_data"
    }
   ],
   "source": [
    "plt.figure(figsize=(10,8))\n",
    "sns.scatterplot(data=prim_acc, x= '% age', y='PRI.NO.OF.ACCTS', hue='loan_default')"
   ]
  },
  {
   "cell_type": "code",
   "execution_count": 95,
   "metadata": {
    "ExecuteTime": {
     "end_time": "2019-04-18T17:32:32.941301Z",
     "start_time": "2019-04-18T17:32:32.937312Z"
    },
    "hidden": true
   },
   "outputs": [],
   "source": [
    "def prim_accnts_map(X, label):\n",
    "    X[label+'_map'] = pd.cut(X[label],\n",
    "                                 [-1, 0, 1, 2, 3, 4, 8, 11, 21,51, 101, X[label].max()+1],\n",
    "                                 include_lowest=False, right=False,\n",
    "                                 labels=['Accnts_0',\n",
    "                                         'Accnts_1','Accnts_2','Accnts_3','Accnts_4',\n",
    "                                         'Accnts_8','Accnts_11',\n",
    "                                        \"Accnts_21\",'Accnts_51',\n",
    "                                        \"Accnts_101\",'Accnts_max'])\n",
    "    return X"
   ]
  },
  {
   "cell_type": "code",
   "execution_count": 78,
   "metadata": {
    "ExecuteTime": {
     "end_time": "2019-04-18T17:24:21.177008Z",
     "start_time": "2019-04-18T17:24:21.084833Z"
    },
    "hidden": true
   },
   "outputs": [],
   "source": [
    "to_drop.append('PRI.NO.OF.ACCTS')"
   ]
  },
  {
   "cell_type": "markdown",
   "metadata": {
    "heading_collapsed": true
   },
   "source": [
    "#### PRI.ACTIVE.ACCTS"
   ]
  },
  {
   "cell_type": "code",
   "execution_count": 79,
   "metadata": {
    "ExecuteTime": {
     "end_time": "2019-04-18T17:24:21.301360Z",
     "start_time": "2019-04-18T17:24:21.179006Z"
    },
    "hidden": true
   },
   "outputs": [],
   "source": [
    "prim_ac_active = cat_feature_vs_target(df_train, 'PRI.ACTIVE.ACCTS', 'loan_default')"
   ]
  },
  {
   "cell_type": "code",
   "execution_count": 80,
   "metadata": {
    "ExecuteTime": {
     "end_time": "2019-04-18T17:24:21.501437Z",
     "start_time": "2019-04-18T17:24:21.301831Z"
    },
    "hidden": true
   },
   "outputs": [
    {
     "data": {
      "text/plain": [
       "<matplotlib.axes._subplots.AxesSubplot at 0x1aa19b33400>"
      ]
     },
     "execution_count": 80,
     "metadata": {},
     "output_type": "execute_result"
    },
    {
     "data": {
      "image/png": "[encoded data removed]",
      "text/plain": [
       "<Figure size 720x576 with 1 Axes>"
      ]
     },
     "metadata": {},
     "output_type": "display_data"
    }
   ],
   "source": [
    "plt.figure(figsize=(10,8))\n",
    "sns.scatterplot(data=prim_ac_active, x= '% age', y='PRI.ACTIVE.ACCTS', hue='loan_default')"
   ]
  },
  {
   "cell_type": "markdown",
   "metadata": {
    "heading_collapsed": true
   },
   "source": [
    "#### PRI.OVERDUE.ACCTS"
   ]
  },
  {
   "cell_type": "code",
   "execution_count": 81,
   "metadata": {
    "ExecuteTime": {
     "end_time": "2019-04-18T17:24:21.505427Z",
     "start_time": "2019-04-18T17:24:21.502435Z"
    },
    "hidden": true
   },
   "outputs": [],
   "source": [
    "# Leave as it is for SVM"
   ]
  },
  {
   "cell_type": "markdown",
   "metadata": {
    "heading_collapsed": true
   },
   "source": [
    "#### PRI.CURRENT.BALANCE"
   ]
  },
  {
   "cell_type": "code",
   "execution_count": 82,
   "metadata": {
    "ExecuteTime": {
     "end_time": "2019-04-18T17:24:27.179608Z",
     "start_time": "2019-04-18T17:24:27.176607Z"
    },
    "hidden": true
   },
   "outputs": [],
   "source": [
    "def pri_current(X):\n",
    "    X['PRI.CURRENT.BALANCE'] = X['PRI.CURRENT.BALANCE'] - X['PRI.CURRENT.BALANCE'].min() \n",
    "    return X"
   ]
  },
  {
   "cell_type": "code",
   "execution_count": 92,
   "metadata": {
    "ExecuteTime": {
     "end_time": "2019-04-18T17:29:54.148094Z",
     "start_time": "2019-04-18T17:29:54.145101Z"
    },
    "hidden": true
   },
   "outputs": [],
   "source": [
    "def prim_crr(X):\n",
    "    X.loc[X['PRI.CURRENT.BALANCE']==0,'PRI.CURRENT.BALANCE'] = 1"
   ]
  },
  {
   "cell_type": "code",
   "execution_count": 90,
   "metadata": {
    "ExecuteTime": {
     "end_time": "2019-04-18T17:28:36.411974Z",
     "start_time": "2019-04-18T17:28:36.408982Z"
    },
    "hidden": true
   },
   "outputs": [],
   "source": [
    "log_labels.append('PRI.CURRENT.BALANCE')"
   ]
  },
  {
   "cell_type": "markdown",
   "metadata": {
    "heading_collapsed": true
   },
   "source": [
    "#### PRI.SANCTIONED.AMOUNT"
   ]
  },
  {
   "cell_type": "code",
   "execution_count": 91,
   "metadata": {
    "ExecuteTime": {
     "end_time": "2019-04-18T17:29:15.651437Z",
     "start_time": "2019-04-18T17:29:15.648445Z"
    },
    "hidden": true
   },
   "outputs": [],
   "source": [
    "def san_amt(X):\n",
    "    X.loc[X['PRI.SANCTIONED.AMOUNT']==0,'PRI.SANCTIONED.AMOUNT'] = 1"
   ]
  },
  {
   "cell_type": "markdown",
   "metadata": {},
   "source": [
    "#### PRI.DISBURSED.AMOUNT"
   ]
  },
  {
   "cell_type": "code",
   "execution_count": 94,
   "metadata": {
    "ExecuteTime": {
     "end_time": "2019-04-18T17:31:01.227856Z",
     "start_time": "2019-04-18T17:31:01.224865Z"
    }
   },
   "outputs": [],
   "source": [
    "def disb_amt(X):\n",
    "    X.loc[X['PRI.SANCTIONED.AMOUNT']==0,'PRI.SANCTIONED.AMOUNT'] = 1"
   ]
  },
  {
   "cell_type": "markdown",
   "metadata": {
    "heading_collapsed": true
   },
   "source": [
    "#### SEC.NO.OF.ACCTS"
   ]
  },
  {
   "cell_type": "code",
   "execution_count": 96,
   "metadata": {
    "ExecuteTime": {
     "end_time": "2019-04-18T17:33:05.876174Z",
     "start_time": "2019-04-18T17:33:05.873182Z"
    },
    "hidden": true
   },
   "outputs": [],
   "source": [
    "# same as prim accounts\n",
    "to_drop.append('SEC.NO.OF.ACCTS')"
   ]
  },
  {
   "cell_type": "markdown",
   "metadata": {
    "heading_collapsed": true
   },
   "source": [
    "#### SEC.ACTIVE.ACCTS"
   ]
  },
  {
   "cell_type": "code",
   "execution_count": null,
   "metadata": {
    "hidden": true
   },
   "outputs": [],
   "source": [
    "# same as prim active accounts\n",
    "# Do Nothing"
   ]
  },
  {
   "cell_type": "markdown",
   "metadata": {
    "heading_collapsed": true
   },
   "source": [
    "#### SEC.OVERDUE.ACCTS"
   ]
  },
  {
   "cell_type": "code",
   "execution_count": 97,
   "metadata": {
    "ExecuteTime": {
     "end_time": "2019-04-18T17:34:47.372494Z",
     "start_time": "2019-04-18T17:34:47.369533Z"
    },
    "hidden": true
   },
   "outputs": [],
   "source": [
    "# Leave as it is for SVM"
   ]
  },
  {
   "cell_type": "markdown",
   "metadata": {
    "heading_collapsed": true
   },
   "source": [
    "#### SEC.CURRENT.BALANCE"
   ]
  },
  {
   "cell_type": "code",
   "execution_count": 100,
   "metadata": {
    "ExecuteTime": {
     "end_time": "2019-04-18T17:37:37.315436Z",
     "start_time": "2019-04-18T17:37:37.312449Z"
    },
    "hidden": true
   },
   "outputs": [],
   "source": [
    "def sec_current(X):\n",
    "    X['SEC.CURRENT.BALANCE'] = X['SEC.CURRENT.BALANCE'] - X['SEC.CURRENT.BALANCE'].min() \n",
    "    return X\n",
    "def sec_crr(X):\n",
    "    X.loc[X['SEC.CURRENT.BALANCE']==0,'SEC.CURRENT.BALANCE'] = 1"
   ]
  },
  {
   "cell_type": "code",
   "execution_count": 99,
   "metadata": {
    "ExecuteTime": {
     "end_time": "2019-04-18T17:37:07.403477Z",
     "start_time": "2019-04-18T17:37:07.400512Z"
    },
    "hidden": true
   },
   "outputs": [],
   "source": [
    "log_labels.append('SEC.CURRENT.BALANCE')"
   ]
  },
  {
   "cell_type": "markdown",
   "metadata": {
    "heading_collapsed": true
   },
   "source": [
    "#### SEC.SANCTIONED.AMOUNT"
   ]
  },
  {
   "cell_type": "code",
   "execution_count": 101,
   "metadata": {
    "ExecuteTime": {
     "end_time": "2019-04-18T17:38:45.308355Z",
     "start_time": "2019-04-18T17:38:45.305364Z"
    },
    "hidden": true
   },
   "outputs": [],
   "source": [
    "def sec_san_amt(X):\n",
    "    X.loc[X['SEC.SANCTIONED.AMOUNT']==0,'SEC.SANCTIONED.AMOUNT'] = 1"
   ]
  },
  {
   "cell_type": "code",
   "execution_count": 102,
   "metadata": {
    "ExecuteTime": {
     "end_time": "2019-04-18T17:39:01.724278Z",
     "start_time": "2019-04-18T17:39:01.721280Z"
    },
    "hidden": true
   },
   "outputs": [],
   "source": [
    "log_labels.append('SEC.SANCTIONED.AMOUNT')"
   ]
  },
  {
   "cell_type": "markdown",
   "metadata": {},
   "source": [
    "#### SEC.DISBURSED.AMOUNT"
   ]
  },
  {
   "cell_type": "code",
   "execution_count": null,
   "metadata": {},
   "outputs": [],
   "source": []
  },
  {
   "cell_type": "markdown",
   "metadata": {
    "heading_collapsed": true
   },
   "source": [
    "#### Model Building"
   ]
  },
  {
   "cell_type": "code",
   "execution_count": null,
   "metadata": {
    "hidden": true
   },
   "outputs": [],
   "source": [
    "y_train = df_train.pop('loan_default')\n",
    "X_train = df_train\n",
    "X_test  = df_test"
   ]
  },
  {
   "cell_type": "code",
   "execution_count": 15,
   "metadata": {
    "hidden": true
   },
   "outputs": [],
   "source": [
    "from sklearn.model_selection import train_test_split"
   ]
  },
  {
   "cell_type": "code",
   "execution_count": 16,
   "metadata": {
    "hidden": true
   },
   "outputs": [],
   "source": [
    "X_train, X_val, y_train, y_val = train_test_split(X_train, y_train, test_size=0.33, random_state=42, stratify=y_train)"
   ]
  },
  {
   "cell_type": "code",
   "execution_count": null,
   "metadata": {
    "hidden": true
   },
   "outputs": [],
   "source": []
  }
 ],
 "metadata": {
  "kernelspec": {
   "display_name": "Python 3",
   "language": "python",
   "name": "python3"
  },
  "language_info": {
   "codemirror_mode": {
    "name": "ipython",
    "version": 3
   },
   "file_extension": ".py",
   "mimetype": "text/x-python",
   "name": "python",
   "nbconvert_exporter": "python",
   "pygments_lexer": "ipython3",
   "version": "3.7.1"
  },
  "toc": {
   "base_numbering": 1,
   "nav_menu": {
    "height": "12px",
    "width": "160px"
   },
   "number_sections": true,
   "sideBar": true,
   "skip_h1_title": true,
   "title_cell": "Table of Contents",
   "title_sidebar": "Contents",
   "toc_cell": false,
   "toc_position": {
    "height": "calc(100% - 180px)",
    "left": "10px",
    "top": "150px",
    "width": "337px"
   },
   "toc_section_display": true,
   "toc_window_display": false
  }
 },
 "nbformat": 4,
 "nbformat_minor": 2
}
